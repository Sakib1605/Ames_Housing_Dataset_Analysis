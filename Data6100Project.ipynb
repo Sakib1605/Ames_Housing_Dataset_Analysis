{
  "cells": [
    {
      "cell_type": "markdown",
      "metadata": {
        "id": "view-in-github",
        "colab_type": "text"
      },
      "source": [
        "<a href=\"https://colab.research.google.com/github/Sakib1605/Ames_Housing_Dataset_Analysis/blob/main/Data6100Project.ipynb\" target=\"_parent\"><img src=\"https://colab.research.google.com/assets/colab-badge.svg\" alt=\"Open In Colab\"/></a>"
      ]
    },
    {
      "cell_type": "markdown",
      "source": [
        "**Name:** Mohammad Sakibul Islam\n",
        "\n",
        "**ID:** 1265299"
      ],
      "metadata": {
        "id": "BbiDDb5wKPqN"
      }
    },
    {
      "cell_type": "markdown",
      "metadata": {
        "id": "JjXQCSIeEP9E"
      },
      "source": [
        "#**Executive Summary**\n",
        "\n",
        "To predict the sale price of unseen data, first I load the training dataset. Then I clean data by handling missing values. Also I convert the categorical variable with specific order into numeric values based on rank and for the categorical variable with no meaningful order, I convert each unique category in columns where 1 is used for representing that category.\n",
        "\n",
        "Then I drop the redundant features that convey almost the same information to reduce model complexity. Also I drop the data that are exceptionally far from usual values to improve model predictions.\n",
        "\n",
        "\n",
        "After pre-processing of data, for model tuning I split the entire training data into 5 subsets. Then I iteratively train the model on 4 subsets and calculate error on the remaining subset  and do this 5 times to utlize all information in the trainig dataset to ensure that model shows consistency and finally calculate average of these errors.\n",
        "\n",
        "Then to find the best model features, I iteratively add one feature at a time and calculate the error for that model. Thus I find the model with features that has the minimum error. Then again train the model using the entire training dataset to improve model predictions.\n",
        "\n",
        "Then to predict the target variable, I load housing test data and after processing of test data, the sales prices for houses are predicted for the selected model.\n",
        "\n",
        "\n",
        "\n",
        "\n",
        "\n",
        "\n",
        "\n"
      ]
    },
    {
      "cell_type": "code",
      "execution_count": null,
      "metadata": {
        "id": "EBwaQqXRPawG"
      },
      "outputs": [],
      "source": [
        "import pandas as pd\n",
        "import seaborn as sns\n",
        "import matplotlib.pyplot as plt\n",
        "import numpy as np"
      ]
    },
    {
      "cell_type": "code",
      "execution_count": null,
      "metadata": {
        "colab": {
          "base_uri": "https://localhost:8080/"
        },
        "id": "29q2TbC6gDjz",
        "outputId": "d9ec0981-e2a0-4c47-e130-8946f9e3bd74"
      },
      "outputs": [
        {
          "name": "stdout",
          "output_type": "stream",
          "text": [
            "Drive already mounted at /content/drive; to attempt to forcibly remount, call drive.mount(\"/content/drive\", force_remount=True).\n"
          ]
        }
      ],
      "source": [
        "from google.colab import drive\n",
        "drive.mount('/content/drive')"
      ]
    },
    {
      "cell_type": "markdown",
      "metadata": {
        "id": "CG9tKrKtgTve"
      },
      "source": [
        "Loading Training Data"
      ]
    },
    {
      "cell_type": "code",
      "execution_count": null,
      "metadata": {
        "colab": {
          "base_uri": "https://localhost:8080/",
          "height": 256
        },
        "id": "yyfwDbDfgS4N",
        "outputId": "5b17dbd6-537f-410d-ebfd-186c02d6b744"
      },
      "outputs": [
        {
          "data": {
            "text/html": [
              "\n",
              "  <div id=\"df-36288100-04c2-4fcd-a8ac-d5aef57ccd95\" class=\"colab-df-container\">\n",
              "    <div>\n",
              "<style scoped>\n",
              "    .dataframe tbody tr th:only-of-type {\n",
              "        vertical-align: middle;\n",
              "    }\n",
              "\n",
              "    .dataframe tbody tr th {\n",
              "        vertical-align: top;\n",
              "    }\n",
              "\n",
              "    .dataframe thead th {\n",
              "        text-align: right;\n",
              "    }\n",
              "</style>\n",
              "<table border=\"1\" class=\"dataframe\">\n",
              "  <thead>\n",
              "    <tr style=\"text-align: right;\">\n",
              "      <th></th>\n",
              "      <th>MSSubClass</th>\n",
              "      <th>MSZoning</th>\n",
              "      <th>LotFrontage</th>\n",
              "      <th>LotArea</th>\n",
              "      <th>Street</th>\n",
              "      <th>Alley</th>\n",
              "      <th>LotShape</th>\n",
              "      <th>LandContour</th>\n",
              "      <th>Utilities</th>\n",
              "      <th>LotConfig</th>\n",
              "      <th>...</th>\n",
              "      <th>PoolArea</th>\n",
              "      <th>PoolQC</th>\n",
              "      <th>Fence</th>\n",
              "      <th>MiscFeature</th>\n",
              "      <th>MiscVal</th>\n",
              "      <th>MoSold</th>\n",
              "      <th>YrSold</th>\n",
              "      <th>SaleType</th>\n",
              "      <th>SaleCondition</th>\n",
              "      <th>SalePrice</th>\n",
              "    </tr>\n",
              "  </thead>\n",
              "  <tbody>\n",
              "    <tr>\n",
              "      <th>0</th>\n",
              "      <td>20</td>\n",
              "      <td>RL</td>\n",
              "      <td>63.0</td>\n",
              "      <td>7500</td>\n",
              "      <td>Pave</td>\n",
              "      <td>NaN</td>\n",
              "      <td>Reg</td>\n",
              "      <td>Lvl</td>\n",
              "      <td>AllPub</td>\n",
              "      <td>Inside</td>\n",
              "      <td>...</td>\n",
              "      <td>0</td>\n",
              "      <td>NaN</td>\n",
              "      <td>NaN</td>\n",
              "      <td>NaN</td>\n",
              "      <td>0</td>\n",
              "      <td>4</td>\n",
              "      <td>2008</td>\n",
              "      <td>WD</td>\n",
              "      <td>Normal</td>\n",
              "      <td>141000</td>\n",
              "    </tr>\n",
              "    <tr>\n",
              "      <th>1</th>\n",
              "      <td>50</td>\n",
              "      <td>RL</td>\n",
              "      <td>NaN</td>\n",
              "      <td>7015</td>\n",
              "      <td>Pave</td>\n",
              "      <td>NaN</td>\n",
              "      <td>IR1</td>\n",
              "      <td>Bnk</td>\n",
              "      <td>AllPub</td>\n",
              "      <td>Corner</td>\n",
              "      <td>...</td>\n",
              "      <td>0</td>\n",
              "      <td>NaN</td>\n",
              "      <td>NaN</td>\n",
              "      <td>NaN</td>\n",
              "      <td>0</td>\n",
              "      <td>7</td>\n",
              "      <td>2009</td>\n",
              "      <td>WD</td>\n",
              "      <td>Normal</td>\n",
              "      <td>110000</td>\n",
              "    </tr>\n",
              "    <tr>\n",
              "      <th>2</th>\n",
              "      <td>20</td>\n",
              "      <td>RL</td>\n",
              "      <td>80.0</td>\n",
              "      <td>9650</td>\n",
              "      <td>Pave</td>\n",
              "      <td>NaN</td>\n",
              "      <td>Reg</td>\n",
              "      <td>Lvl</td>\n",
              "      <td>AllPub</td>\n",
              "      <td>Inside</td>\n",
              "      <td>...</td>\n",
              "      <td>0</td>\n",
              "      <td>NaN</td>\n",
              "      <td>NaN</td>\n",
              "      <td>NaN</td>\n",
              "      <td>0</td>\n",
              "      <td>4</td>\n",
              "      <td>2009</td>\n",
              "      <td>WD</td>\n",
              "      <td>Normal</td>\n",
              "      <td>167900</td>\n",
              "    </tr>\n",
              "    <tr>\n",
              "      <th>3</th>\n",
              "      <td>20</td>\n",
              "      <td>RL</td>\n",
              "      <td>75.0</td>\n",
              "      <td>9000</td>\n",
              "      <td>Pave</td>\n",
              "      <td>NaN</td>\n",
              "      <td>Reg</td>\n",
              "      <td>Lvl</td>\n",
              "      <td>AllPub</td>\n",
              "      <td>Inside</td>\n",
              "      <td>...</td>\n",
              "      <td>0</td>\n",
              "      <td>NaN</td>\n",
              "      <td>GdWo</td>\n",
              "      <td>NaN</td>\n",
              "      <td>0</td>\n",
              "      <td>6</td>\n",
              "      <td>2006</td>\n",
              "      <td>WD</td>\n",
              "      <td>Family</td>\n",
              "      <td>118000</td>\n",
              "    </tr>\n",
              "    <tr>\n",
              "      <th>4</th>\n",
              "      <td>60</td>\n",
              "      <td>RL</td>\n",
              "      <td>88.0</td>\n",
              "      <td>12665</td>\n",
              "      <td>Pave</td>\n",
              "      <td>NaN</td>\n",
              "      <td>IR1</td>\n",
              "      <td>Lvl</td>\n",
              "      <td>AllPub</td>\n",
              "      <td>Inside</td>\n",
              "      <td>...</td>\n",
              "      <td>0</td>\n",
              "      <td>NaN</td>\n",
              "      <td>NaN</td>\n",
              "      <td>NaN</td>\n",
              "      <td>0</td>\n",
              "      <td>2</td>\n",
              "      <td>2007</td>\n",
              "      <td>WD</td>\n",
              "      <td>Normal</td>\n",
              "      <td>281213</td>\n",
              "    </tr>\n",
              "  </tbody>\n",
              "</table>\n",
              "<p>5 rows × 80 columns</p>\n",
              "</div>\n",
              "    <div class=\"colab-df-buttons\">\n",
              "\n",
              "  <div class=\"colab-df-container\">\n",
              "    <button class=\"colab-df-convert\" onclick=\"convertToInteractive('df-36288100-04c2-4fcd-a8ac-d5aef57ccd95')\"\n",
              "            title=\"Convert this dataframe to an interactive table.\"\n",
              "            style=\"display:none;\">\n",
              "\n",
              "  <svg xmlns=\"http://www.w3.org/2000/svg\" height=\"24px\" viewBox=\"0 -960 960 960\">\n",
              "    <path d=\"M120-120v-720h720v720H120Zm60-500h600v-160H180v160Zm220 220h160v-160H400v160Zm0 220h160v-160H400v160ZM180-400h160v-160H180v160Zm440 0h160v-160H620v160ZM180-180h160v-160H180v160Zm440 0h160v-160H620v160Z\"/>\n",
              "  </svg>\n",
              "    </button>\n",
              "\n",
              "  <style>\n",
              "    .colab-df-container {\n",
              "      display:flex;\n",
              "      gap: 12px;\n",
              "    }\n",
              "\n",
              "    .colab-df-convert {\n",
              "      background-color: #E8F0FE;\n",
              "      border: none;\n",
              "      border-radius: 50%;\n",
              "      cursor: pointer;\n",
              "      display: none;\n",
              "      fill: #1967D2;\n",
              "      height: 32px;\n",
              "      padding: 0 0 0 0;\n",
              "      width: 32px;\n",
              "    }\n",
              "\n",
              "    .colab-df-convert:hover {\n",
              "      background-color: #E2EBFA;\n",
              "      box-shadow: 0px 1px 2px rgba(60, 64, 67, 0.3), 0px 1px 3px 1px rgba(60, 64, 67, 0.15);\n",
              "      fill: #174EA6;\n",
              "    }\n",
              "\n",
              "    .colab-df-buttons div {\n",
              "      margin-bottom: 4px;\n",
              "    }\n",
              "\n",
              "    [theme=dark] .colab-df-convert {\n",
              "      background-color: #3B4455;\n",
              "      fill: #D2E3FC;\n",
              "    }\n",
              "\n",
              "    [theme=dark] .colab-df-convert:hover {\n",
              "      background-color: #434B5C;\n",
              "      box-shadow: 0px 1px 3px 1px rgba(0, 0, 0, 0.15);\n",
              "      filter: drop-shadow(0px 1px 2px rgba(0, 0, 0, 0.3));\n",
              "      fill: #FFFFFF;\n",
              "    }\n",
              "  </style>\n",
              "\n",
              "    <script>\n",
              "      const buttonEl =\n",
              "        document.querySelector('#df-36288100-04c2-4fcd-a8ac-d5aef57ccd95 button.colab-df-convert');\n",
              "      buttonEl.style.display =\n",
              "        google.colab.kernel.accessAllowed ? 'block' : 'none';\n",
              "\n",
              "      async function convertToInteractive(key) {\n",
              "        const element = document.querySelector('#df-36288100-04c2-4fcd-a8ac-d5aef57ccd95');\n",
              "        const dataTable =\n",
              "          await google.colab.kernel.invokeFunction('convertToInteractive',\n",
              "                                                    [key], {});\n",
              "        if (!dataTable) return;\n",
              "\n",
              "        const docLinkHtml = 'Like what you see? Visit the ' +\n",
              "          '<a target=\"_blank\" href=https://colab.research.google.com/notebooks/data_table.ipynb>data table notebook</a>'\n",
              "          + ' to learn more about interactive tables.';\n",
              "        element.innerHTML = '';\n",
              "        dataTable['output_type'] = 'display_data';\n",
              "        await google.colab.output.renderOutput(dataTable, element);\n",
              "        const docLink = document.createElement('div');\n",
              "        docLink.innerHTML = docLinkHtml;\n",
              "        element.appendChild(docLink);\n",
              "      }\n",
              "    </script>\n",
              "  </div>\n",
              "\n",
              "\n",
              "<div id=\"df-3f8b89bf-db32-4077-a84f-4aeb79a50246\">\n",
              "  <button class=\"colab-df-quickchart\" onclick=\"quickchart('df-3f8b89bf-db32-4077-a84f-4aeb79a50246')\"\n",
              "            title=\"Suggest charts.\"\n",
              "            style=\"display:none;\">\n",
              "\n",
              "<svg xmlns=\"http://www.w3.org/2000/svg\" height=\"24px\"viewBox=\"0 0 24 24\"\n",
              "     width=\"24px\">\n",
              "    <g>\n",
              "        <path d=\"M19 3H5c-1.1 0-2 .9-2 2v14c0 1.1.9 2 2 2h14c1.1 0 2-.9 2-2V5c0-1.1-.9-2-2-2zM9 17H7v-7h2v7zm4 0h-2V7h2v10zm4 0h-2v-4h2v4z\"/>\n",
              "    </g>\n",
              "</svg>\n",
              "  </button>\n",
              "\n",
              "<style>\n",
              "  .colab-df-quickchart {\n",
              "      --bg-color: #E8F0FE;\n",
              "      --fill-color: #1967D2;\n",
              "      --hover-bg-color: #E2EBFA;\n",
              "      --hover-fill-color: #174EA6;\n",
              "      --disabled-fill-color: #AAA;\n",
              "      --disabled-bg-color: #DDD;\n",
              "  }\n",
              "\n",
              "  [theme=dark] .colab-df-quickchart {\n",
              "      --bg-color: #3B4455;\n",
              "      --fill-color: #D2E3FC;\n",
              "      --hover-bg-color: #434B5C;\n",
              "      --hover-fill-color: #FFFFFF;\n",
              "      --disabled-bg-color: #3B4455;\n",
              "      --disabled-fill-color: #666;\n",
              "  }\n",
              "\n",
              "  .colab-df-quickchart {\n",
              "    background-color: var(--bg-color);\n",
              "    border: none;\n",
              "    border-radius: 50%;\n",
              "    cursor: pointer;\n",
              "    display: none;\n",
              "    fill: var(--fill-color);\n",
              "    height: 32px;\n",
              "    padding: 0;\n",
              "    width: 32px;\n",
              "  }\n",
              "\n",
              "  .colab-df-quickchart:hover {\n",
              "    background-color: var(--hover-bg-color);\n",
              "    box-shadow: 0 1px 2px rgba(60, 64, 67, 0.3), 0 1px 3px 1px rgba(60, 64, 67, 0.15);\n",
              "    fill: var(--button-hover-fill-color);\n",
              "  }\n",
              "\n",
              "  .colab-df-quickchart-complete:disabled,\n",
              "  .colab-df-quickchart-complete:disabled:hover {\n",
              "    background-color: var(--disabled-bg-color);\n",
              "    fill: var(--disabled-fill-color);\n",
              "    box-shadow: none;\n",
              "  }\n",
              "\n",
              "  .colab-df-spinner {\n",
              "    border: 2px solid var(--fill-color);\n",
              "    border-color: transparent;\n",
              "    border-bottom-color: var(--fill-color);\n",
              "    animation:\n",
              "      spin 1s steps(1) infinite;\n",
              "  }\n",
              "\n",
              "  @keyframes spin {\n",
              "    0% {\n",
              "      border-color: transparent;\n",
              "      border-bottom-color: var(--fill-color);\n",
              "      border-left-color: var(--fill-color);\n",
              "    }\n",
              "    20% {\n",
              "      border-color: transparent;\n",
              "      border-left-color: var(--fill-color);\n",
              "      border-top-color: var(--fill-color);\n",
              "    }\n",
              "    30% {\n",
              "      border-color: transparent;\n",
              "      border-left-color: var(--fill-color);\n",
              "      border-top-color: var(--fill-color);\n",
              "      border-right-color: var(--fill-color);\n",
              "    }\n",
              "    40% {\n",
              "      border-color: transparent;\n",
              "      border-right-color: var(--fill-color);\n",
              "      border-top-color: var(--fill-color);\n",
              "    }\n",
              "    60% {\n",
              "      border-color: transparent;\n",
              "      border-right-color: var(--fill-color);\n",
              "    }\n",
              "    80% {\n",
              "      border-color: transparent;\n",
              "      border-right-color: var(--fill-color);\n",
              "      border-bottom-color: var(--fill-color);\n",
              "    }\n",
              "    90% {\n",
              "      border-color: transparent;\n",
              "      border-bottom-color: var(--fill-color);\n",
              "    }\n",
              "  }\n",
              "</style>\n",
              "\n",
              "  <script>\n",
              "    async function quickchart(key) {\n",
              "      const quickchartButtonEl =\n",
              "        document.querySelector('#' + key + ' button');\n",
              "      quickchartButtonEl.disabled = true;  // To prevent multiple clicks.\n",
              "      quickchartButtonEl.classList.add('colab-df-spinner');\n",
              "      try {\n",
              "        const charts = await google.colab.kernel.invokeFunction(\n",
              "            'suggestCharts', [key], {});\n",
              "      } catch (error) {\n",
              "        console.error('Error during call to suggestCharts:', error);\n",
              "      }\n",
              "      quickchartButtonEl.classList.remove('colab-df-spinner');\n",
              "      quickchartButtonEl.classList.add('colab-df-quickchart-complete');\n",
              "    }\n",
              "    (() => {\n",
              "      let quickchartButtonEl =\n",
              "        document.querySelector('#df-3f8b89bf-db32-4077-a84f-4aeb79a50246 button');\n",
              "      quickchartButtonEl.style.display =\n",
              "        google.colab.kernel.accessAllowed ? 'block' : 'none';\n",
              "    })();\n",
              "  </script>\n",
              "</div>\n",
              "    </div>\n",
              "  </div>\n"
            ],
            "text/plain": [
              "   MSSubClass MSZoning  LotFrontage  LotArea Street Alley LotShape  \\\n",
              "0          20       RL         63.0     7500   Pave   NaN      Reg   \n",
              "1          50       RL          NaN     7015   Pave   NaN      IR1   \n",
              "2          20       RL         80.0     9650   Pave   NaN      Reg   \n",
              "3          20       RL         75.0     9000   Pave   NaN      Reg   \n",
              "4          60       RL         88.0    12665   Pave   NaN      IR1   \n",
              "\n",
              "  LandContour Utilities LotConfig  ... PoolArea PoolQC Fence MiscFeature  \\\n",
              "0         Lvl    AllPub    Inside  ...        0    NaN   NaN         NaN   \n",
              "1         Bnk    AllPub    Corner  ...        0    NaN   NaN         NaN   \n",
              "2         Lvl    AllPub    Inside  ...        0    NaN   NaN         NaN   \n",
              "3         Lvl    AllPub    Inside  ...        0    NaN  GdWo         NaN   \n",
              "4         Lvl    AllPub    Inside  ...        0    NaN   NaN         NaN   \n",
              "\n",
              "  MiscVal MoSold  YrSold  SaleType  SaleCondition  SalePrice  \n",
              "0       0      4    2008        WD         Normal     141000  \n",
              "1       0      7    2009        WD         Normal     110000  \n",
              "2       0      4    2009        WD         Normal     167900  \n",
              "3       0      6    2006        WD         Family     118000  \n",
              "4       0      2    2007        WD         Normal     281213  \n",
              "\n",
              "[5 rows x 80 columns]"
            ]
          },
          "execution_count": 4,
          "metadata": {},
          "output_type": "execute_result"
        }
      ],
      "source": [
        "df = pd.read_csv('/content/drive/MyDrive/Housing_Data_Train.csv', index_col = 0)\n",
        "df = df.drop('Id' , axis =1)\n",
        "df.head()"
      ]
    },
    {
      "cell_type": "markdown",
      "metadata": {
        "id": "2F3SaWJGtg8t"
      },
      "source": [
        "#**Data Pre-processing**\n",
        "\n",
        "\n",
        "\n",
        "##*   **Handle Missing Values**\n",
        "\n",
        "\n",
        "####**1.   Drop the columns with High proportions of missing values**\n",
        "\n",
        "First I calculated the proportion of missing values in each column and then sort them in descending order to see the columns with higher ratio of missing values. As PoolQC, MiscFeature and  Alley has more than 90 percent of missing values, I dropped these three columns.\n",
        "\n",
        "####**2.  Replacing the NaN values for categorical and numeric columns**\n",
        "  \n",
        "I replaced NaN values with string 'NaN' for the categorical columns having missing values and for numeric columns replaced 'NaN' with 0.\n",
        "\n",
        "####**3.  Impute Missing values**\n",
        "\n",
        "The lot frontage values  are associated with the specific neighbouhood in which the house is located. So I group the data by neighbourhood and replace the missing values for lot frontage with the mean value of lotfront for each individual neighbourhood.\n",
        "\n",
        "##* **Ordinal Mapping for relevant features**\n",
        "Ordinal mapping assigns numeric values for categorical variables with order. So I map the ordinal quality ratings of house features (kitchen quality, garage quality etc) from categorical values to numeric values.\n",
        "\n",
        "##* **One-hot-encoding for non-ordinal features**\n",
        "while converting non-ordinal features to one-hot-encoding, each unique category is represented as a column, and if a data point falls in that catergory, 1 is assigned for that column and 0 otherwise.\n",
        "\n",
        "##* **Drop one of the high correlated pairs**\n",
        "When the pairwise correlation high, that means that both the features convey almost the same information which results in reduncdancy. So, after finding the highly correlated feature pairs, removing one of the features that has lower correlation with target varibale reduces model complexity.\n",
        "\n",
        "\n",
        "##* **Handle Outliers**\n",
        "\n",
        "\n",
        "*   Generating Box plots for identifying outliers\n",
        "\n",
        "    After finding the features that have high correlation with target variable Sales price, I generate a boxplot for finding outliers and drop the values for that features that are significantly different from majority of data.\n",
        "*   Using Local Outlier Factor for detecting outliers\n",
        "\n",
        "    After detecting the oultiers by considering the local density of each data point by comparing to its nearest neighbours, I drop the outliers.\n"
      ]
    },
    {
      "cell_type": "markdown",
      "metadata": {
        "id": "KPzJdrChgxJF"
      },
      "source": [
        "Handling Missing Values"
      ]
    },
    {
      "cell_type": "code",
      "execution_count": null,
      "metadata": {
        "colab": {
          "base_uri": "https://localhost:8080/"
        },
        "id": "GNr-euvig3C8",
        "outputId": "17eda3a8-b11e-414b-dc8e-803ca8d8ec60"
      },
      "outputs": [
        {
          "data": {
            "text/plain": [
              "PoolQC          0.995\n",
              "MiscFeature     0.964\n",
              "Alley           0.934\n",
              "Fence           0.815\n",
              "FireplaceQu     0.465\n",
              "LotFrontage     0.186\n",
              "GarageType      0.061\n",
              "GarageYrBlt     0.061\n",
              "GarageFinish    0.061\n",
              "GarageQual      0.061\n",
              "GarageCond      0.061\n",
              "BsmtExposure    0.026\n",
              "BsmtFinType2    0.026\n",
              "BsmtFinType1    0.025\n",
              "BsmtCond        0.025\n",
              "BsmtQual        0.025\n",
              "MasVnrArea      0.006\n",
              "MasVnrType      0.006\n",
              "Electrical      0.001\n",
              "dtype: float64"
            ]
          },
          "execution_count": 5,
          "metadata": {},
          "output_type": "execute_result"
        }
      ],
      "source": [
        "# proportion of missing values in each column\n",
        "missing_data = df.isna().sum() / len(df)\n",
        "# sorting tha columns with descending order of proportion of missing value\n",
        "missing_data = missing_data[missing_data>0].sort_values(ascending = False)\n",
        "#print the proportion of missing data in ascending order\n",
        "missing_data\n"
      ]
    },
    {
      "cell_type": "code",
      "execution_count": null,
      "metadata": {
        "colab": {
          "base_uri": "https://localhost:8080/",
          "height": 448
        },
        "id": "eVQWBtZ5hsbo",
        "outputId": "434d74ec-d6e0-4d60-9a0f-7188b98801eb"
      },
      "outputs": [
        {
          "data": {
            "text/plain": [
              "<BarContainer object of 19 artists>"
            ]
          },
          "execution_count": 6,
          "metadata": {},
          "output_type": "execute_result"
        },
        {
          "data": {
            "image/png": "[encoded data removed]",
            "text/plain": [
              "<Figure size 640x480 with 1 Axes>"
            ]
          },
          "metadata": {},
          "output_type": "display_data"
        }
      ],
      "source": [
        "# Create a bar plot to better visualize\n",
        "plt.barh(missing_data.index, missing_data.values)"
      ]
    },
    {
      "cell_type": "code",
      "execution_count": null,
      "metadata": {
        "id": "-Vdgq8pgkL6F"
      },
      "outputs": [],
      "source": [
        "#Drop columns with high proportion of missing values\n",
        "df = df.drop(['Alley','MiscFeature','PoolQC'], axis = 1)"
      ]
    },
    {
      "cell_type": "code",
      "execution_count": null,
      "metadata": {
        "colab": {
          "base_uri": "https://localhost:8080/"
        },
        "id": "99fmTW8EhwZf",
        "outputId": "10bff145-561f-4e23-ee79-171ffae8c0ca"
      },
      "outputs": [
        {
          "name": "stdout",
          "output_type": "stream",
          "text": [
            "<class 'pandas.core.frame.DataFrame'>\n",
            "Int64Index: 1000 entries, 0 to 999\n",
            "Data columns (total 77 columns):\n",
            " #   Column         Non-Null Count  Dtype  \n",
            "---  ------         --------------  -----  \n",
            " 0   MSSubClass     1000 non-null   int64  \n",
            " 1   MSZoning       1000 non-null   object \n",
            " 2   LotFrontage    814 non-null    float64\n",
            " 3   LotArea        1000 non-null   int64  \n",
            " 4   Street         1000 non-null   object \n",
            " 5   LotShape       1000 non-null   object \n",
            " 6   LandContour    1000 non-null   object \n",
            " 7   Utilities      1000 non-null   object \n",
            " 8   LotConfig      1000 non-null   object \n",
            " 9   LandSlope      1000 non-null   object \n",
            " 10  Neighborhood   1000 non-null   object \n",
            " 11  Condition1     1000 non-null   object \n",
            " 12  Condition2     1000 non-null   object \n",
            " 13  BldgType       1000 non-null   object \n",
            " 14  HouseStyle     1000 non-null   object \n",
            " 15  OverallQual    1000 non-null   int64  \n",
            " 16  OverallCond    1000 non-null   int64  \n",
            " 17  YearBuilt      1000 non-null   int64  \n",
            " 18  YearRemodAdd   1000 non-null   int64  \n",
            " 19  RoofStyle      1000 non-null   object \n",
            " 20  RoofMatl       1000 non-null   object \n",
            " 21  Exterior1st    1000 non-null   object \n",
            " 22  Exterior2nd    1000 non-null   object \n",
            " 23  MasVnrType     994 non-null    object \n",
            " 24  MasVnrArea     994 non-null    float64\n",
            " 25  ExterQual      1000 non-null   object \n",
            " 26  ExterCond      1000 non-null   object \n",
            " 27  Foundation     1000 non-null   object \n",
            " 28  BsmtQual       975 non-null    object \n",
            " 29  BsmtCond       975 non-null    object \n",
            " 30  BsmtExposure   974 non-null    object \n",
            " 31  BsmtFinType1   975 non-null    object \n",
            " 32  BsmtFinSF1     1000 non-null   int64  \n",
            " 33  BsmtFinType2   974 non-null    object \n",
            " 34  BsmtFinSF2     1000 non-null   int64  \n",
            " 35  BsmtUnfSF      1000 non-null   int64  \n",
            " 36  TotalBsmtSF    1000 non-null   int64  \n",
            " 37  Heating        1000 non-null   object \n",
            " 38  HeatingQC      1000 non-null   object \n",
            " 39  CentralAir     1000 non-null   object \n",
            " 40  Electrical     999 non-null    object \n",
            " 41  1stFlrSF       1000 non-null   int64  \n",
            " 42  2ndFlrSF       1000 non-null   int64  \n",
            " 43  LowQualFinSF   1000 non-null   int64  \n",
            " 44  GrLivArea      1000 non-null   int64  \n",
            " 45  BsmtFullBath   1000 non-null   int64  \n",
            " 46  BsmtHalfBath   1000 non-null   int64  \n",
            " 47  FullBath       1000 non-null   int64  \n",
            " 48  HalfBath       1000 non-null   int64  \n",
            " 49  BedroomAbvGr   1000 non-null   int64  \n",
            " 50  KitchenAbvGr   1000 non-null   int64  \n",
            " 51  KitchenQual    1000 non-null   object \n",
            " 52  TotRmsAbvGrd   1000 non-null   int64  \n",
            " 53  Functional     1000 non-null   object \n",
            " 54  Fireplaces     1000 non-null   int64  \n",
            " 55  FireplaceQu    535 non-null    object \n",
            " 56  GarageType     939 non-null    object \n",
            " 57  GarageYrBlt    939 non-null    float64\n",
            " 58  GarageFinish   939 non-null    object \n",
            " 59  GarageCars     1000 non-null   int64  \n",
            " 60  GarageArea     1000 non-null   int64  \n",
            " 61  GarageQual     939 non-null    object \n",
            " 62  GarageCond     939 non-null    object \n",
            " 63  PavedDrive     1000 non-null   object \n",
            " 64  WoodDeckSF     1000 non-null   int64  \n",
            " 65  OpenPorchSF    1000 non-null   int64  \n",
            " 66  EnclosedPorch  1000 non-null   int64  \n",
            " 67  3SsnPorch      1000 non-null   int64  \n",
            " 68  ScreenPorch    1000 non-null   int64  \n",
            " 69  PoolArea       1000 non-null   int64  \n",
            " 70  Fence          185 non-null    object \n",
            " 71  MiscVal        1000 non-null   int64  \n",
            " 72  MoSold         1000 non-null   int64  \n",
            " 73  YrSold         1000 non-null   int64  \n",
            " 74  SaleType       1000 non-null   object \n",
            " 75  SaleCondition  1000 non-null   object \n",
            " 76  SalePrice      1000 non-null   int64  \n",
            "dtypes: float64(3), int64(34), object(40)\n",
            "memory usage: 609.4+ KB\n"
          ]
        }
      ],
      "source": [
        "df.info()"
      ]
    },
    {
      "cell_type": "code",
      "execution_count": null,
      "metadata": {
        "id": "uXvvFktzi1pS"
      },
      "outputs": [],
      "source": [
        "# list of categorical columns with missing values\n",
        "categorical_columns_with_nan = ['Electrical','GarageType','GarageFinish','GarageCond','GarageQual',\n",
        "                                'Fence','FireplaceQu','BsmtExposure','BsmtCond','BsmtQual',\n",
        "                                'BsmtFinType1','BsmtFinType2','MasVnrType']\n",
        "#Replace NaN value with string 'NaN'\n",
        "df[categorical_columns_with_nan] = df[categorical_columns_with_nan].fillna('NaN')\n"
      ]
    },
    {
      "cell_type": "code",
      "execution_count": null,
      "metadata": {
        "id": "SQKcBQaylG1a"
      },
      "outputs": [],
      "source": [
        "#list of numeric columns with missing values\n",
        "numeric_column_with_nan = ['MasVnrArea','GarageYrBlt']\n",
        "\n",
        "#Replace NaN values with 0\n",
        "df[numeric_column_with_nan] = df[numeric_column_with_nan].fillna(0)"
      ]
    },
    {
      "cell_type": "markdown",
      "metadata": {
        "id": "32Owo8Vhl0ky"
      },
      "source": [
        "Impute Missing values for LotFrontage"
      ]
    },
    {
      "cell_type": "code",
      "execution_count": null,
      "metadata": {
        "colab": {
          "base_uri": "https://localhost:8080/",
          "height": 467
        },
        "id": "P8nsPtJAlkeY",
        "outputId": "d22c583f-0754-41a6-8488-93ca0a98722f"
      },
      "outputs": [
        {
          "data": {
            "text/plain": [
              "<Axes: xlabel='LotFrontage', ylabel='Neighborhood'>"
            ]
          },
          "execution_count": 11,
          "metadata": {},
          "output_type": "execute_result"
        },
        {
          "data": {
            "image/png": "[encoded data removed]",
            "text/plain": [
              "<Figure size 640x480 with 1 Axes>"
            ]
          },
          "metadata": {},
          "output_type": "display_data"
        }
      ],
      "source": [
        "#generate a boxplot to see the values of LotFrontage across each neighbourhood\n",
        "sns.boxplot(data = df, x ='LotFrontage', y = 'Neighborhood')"
      ]
    },
    {
      "cell_type": "code",
      "execution_count": null,
      "metadata": {
        "id": "w2H9BG_enHTQ"
      },
      "outputs": [],
      "source": [
        "# group the data by neighbourhood and find mean value of lotFrontage for each individual neighbourhood\n",
        "mean_lot_Frontage = df.groupby('Neighborhood')['LotFrontage'].transform('mean')\n",
        "\n",
        "# Replace the missing values with this mean value for each neighbourhood\n",
        "df['LotFrontage'] = df['LotFrontage'].fillna(mean_lot_Frontage)"
      ]
    },
    {
      "cell_type": "code",
      "execution_count": null,
      "metadata": {
        "colab": {
          "base_uri": "https://localhost:8080/"
        },
        "id": "52XRPItBopVL",
        "outputId": "ca3d392e-7053-430f-b233-f4e212b4788e"
      },
      "outputs": [
        {
          "data": {
            "text/plain": [
              "Series([], dtype: int64)"
            ]
          },
          "execution_count": 13,
          "metadata": {},
          "output_type": "execute_result"
        }
      ],
      "source": [
        "#Find if  any other  column with missing value exists\n",
        "missing_data_check = df.isna().sum()\n",
        "missing_data_check = missing_data_check[missing_data_check>0]\n",
        "missing_data_check"
      ]
    },
    {
      "cell_type": "markdown",
      "metadata": {
        "id": "UAkvgY80qRv1"
      },
      "source": [
        "Ordinal_Mapping"
      ]
    },
    {
      "cell_type": "code",
      "execution_count": null,
      "metadata": {
        "id": "NmVLyohcqTjm"
      },
      "outputs": [],
      "source": [
        "# define ordinal mapping for quality\n",
        "\n",
        "quality_map = {'Ex': 5 ,'Gd':4, 'TA':3, 'Fa':2, 'Po': 1, 'NaN':0}\n",
        "columns_to_map_quality = ['ExterQual','ExterCond','BsmtQual','BsmtCond','HeatingQC',\n",
        "                          'FireplaceQu','GarageQual','GarageCond','KitchenQual']\n",
        "for col in columns_to_map_quality:\n",
        "  df[col] = df[col].map(quality_map)"
      ]
    },
    {
      "cell_type": "code",
      "execution_count": null,
      "metadata": {
        "id": "OTw8AbdbrmMi"
      },
      "outputs": [],
      "source": [
        "# define ordinal mapping for fin type\n",
        "\n",
        "fin_type_map = {'GLQ' : 6, 'ALQ' : 5 , 'BLQ': 4, 'Rec': 3,\n",
        "                'LwQ': 2, 'Unf': 1, 'NaN': 0}\n",
        "BsmtFinType = ['BsmtFinType1','BsmtFinType2']\n",
        "for col in BsmtFinType:\n",
        "  df[col] = df[col].map(fin_type_map)"
      ]
    },
    {
      "cell_type": "code",
      "execution_count": null,
      "metadata": {
        "id": "LXJQF_qHtbVW"
      },
      "outputs": [],
      "source": [
        "# define ordinal mapping for basement exposure quality\n",
        "bsmt_exposure_quality = {'Gd': 4,'Av': 3, 'Mn': 2 , 'No': 1,'NaN':0}\n",
        "df['BsmtExposure'] = df['BsmtExposure'].map(bsmt_exposure_quality)"
      ]
    },
    {
      "cell_type": "markdown",
      "metadata": {
        "id": "wczDHTwGu2Jm"
      },
      "source": [
        "One-Hot-Encoding for non-ordinal value"
      ]
    },
    {
      "cell_type": "code",
      "execution_count": null,
      "metadata": {
        "id": "PMsHAc9AvFT5"
      },
      "outputs": [],
      "source": [
        "#get the categorical columne\n",
        "categorical_data = df.select_dtypes(include = 'object')\n",
        "#get the numerical columns\n",
        "numerical_data = df.select_dtypes(exclude = 'object')\n",
        "#ONE HOT ENCODING  FOR CATEGORICAL DATA\n",
        "categorical_data  = pd.get_dummies(categorical_data)\n",
        "#concatenating categorical and numeric columns\n",
        "df = pd.concat([numerical_data, categorical_data], axis =1)"
      ]
    },
    {
      "cell_type": "markdown",
      "metadata": {
        "id": "JeiVkbjSonSO"
      },
      "source": [
        "**Finding pairwise Highly Correlated Features**\n"
      ]
    },
    {
      "cell_type": "code",
      "execution_count": null,
      "metadata": {
        "id": "uYS0AHfNnaeW"
      },
      "outputs": [],
      "source": [
        "# this code portion was suggested to me by DATA 6200 course (notes on preprocessing)\n",
        "\n",
        "\n",
        "#list to store the highly correlated features\n",
        "correlated_features = []\n",
        "\n",
        "#Calculate pairwise correlation\n",
        "for i in range(len(df.columns)):\n",
        "  for j in range(i+1, len(df.columns)):\n",
        "    first_feature = df.columns[i]\n",
        "    second_feature = df.columns[j]\n",
        "    pairwise_correlation = df[first_feature].corr(df[second_feature])\n",
        "\n",
        "    # if the correlation is above 0.95, then add the pair to the correlated_features\n",
        "    if abs(pairwise_correlation) > 0.95 :\n",
        "      correlated_features.append((first_feature, second_feature))\n",
        "\n",
        "    #list to store the feature which will be dropped\n",
        "    drop_features = set()\n",
        "    # from the pairwise highly correlated features, drop one of the features that has lower\n",
        "    # correlation with target 'SalePrice' variable\n",
        "    for first_feature, second_feature in correlated_features :\n",
        "      feature1_corr = df[first_feature].corr(df['SalePrice'])\n",
        "      feature2_corr = df[second_feature].corr(df['SalePrice'])\n",
        "\n",
        "      if(abs(feature1_corr) < abs(feature1_corr)):\n",
        "        drop_features.add(first_feature)\n",
        "      else:\n",
        "        drop_features.add(second_feature)\n",
        "\n",
        "\n",
        "\n",
        "\n"
      ]
    },
    {
      "cell_type": "code",
      "execution_count": null,
      "metadata": {
        "colab": {
          "base_uri": "https://localhost:8080/"
        },
        "id": "W9RN0ca3sSOv",
        "outputId": "ec926d87-daf7-413f-ebb8-dbb4b666197e"
      },
      "outputs": [
        {
          "data": {
            "text/plain": [
              "[('GarageYrBlt', 'GarageType_NaN'),\n",
              " ('GarageYrBlt', 'GarageFinish_NaN'),\n",
              " ('GarageQual', 'GarageCond'),\n",
              " ('Street_Grvl', 'Street_Pave'),\n",
              " ('Utilities_AllPub', 'Utilities_NoSeWa'),\n",
              " ('Exterior1st_CBlock', 'Exterior2nd_CBlock'),\n",
              " ('Exterior1st_CemntBd', 'Exterior2nd_CmentBd'),\n",
              " ('Exterior1st_MetalSd', 'Exterior2nd_MetalSd'),\n",
              " ('Exterior1st_VinylSd', 'Exterior2nd_VinylSd'),\n",
              " ('CentralAir_N', 'CentralAir_Y'),\n",
              " ('GarageType_NaN', 'GarageFinish_NaN'),\n",
              " ('SaleType_New', 'SaleCondition_Partial')]"
            ]
          },
          "execution_count": 19,
          "metadata": {},
          "output_type": "execute_result"
        }
      ],
      "source": [
        "#highly correlated features\n",
        "correlated_features"
      ]
    },
    {
      "cell_type": "code",
      "execution_count": null,
      "metadata": {
        "colab": {
          "base_uri": "https://localhost:8080/"
        },
        "id": "sB25-wY1sW-y",
        "outputId": "2656f93e-d7e8-4168-9c28-003b56d763a5"
      },
      "outputs": [
        {
          "data": {
            "text/plain": [
              "(1000, 223)"
            ]
          },
          "execution_count": 20,
          "metadata": {},
          "output_type": "execute_result"
        }
      ],
      "source": [
        "#dropping one from the pair of the  highly correlated features\n",
        "df = df.drop(drop_features, axis = 1)\n",
        "df.shape"
      ]
    },
    {
      "cell_type": "markdown",
      "metadata": {
        "id": "7Vyims-VukZ1"
      },
      "source": [
        "Handling Outliers"
      ]
    },
    {
      "cell_type": "code",
      "execution_count": null,
      "metadata": {
        "colab": {
          "base_uri": "https://localhost:8080/"
        },
        "id": "3mvLZRKHupvv",
        "outputId": "84544fce-4981-48d5-8585-95109484438f"
      },
      "outputs": [
        {
          "data": {
            "text/plain": [
              "SalePrice            1.000000\n",
              "OverallQual          0.796024\n",
              "ExterQual            0.678897\n",
              "GarageCars           0.668395\n",
              "KitchenQual          0.666980\n",
              "                       ...   \n",
              "MSZoning_RM         -0.322992\n",
              "Foundation_CBlock   -0.349390\n",
              "GarageType_Detchd   -0.368380\n",
              "MasVnrType_None     -0.389298\n",
              "GarageFinish_Unf    -0.418087\n",
              "Name: SalePrice, Length: 223, dtype: float64"
            ]
          },
          "execution_count": 21,
          "metadata": {},
          "output_type": "execute_result"
        }
      ],
      "source": [
        "#First finding those features which have higher correlation with target feature\n",
        "df.corr()['SalePrice'].sort_values(ascending = False)"
      ]
    },
    {
      "cell_type": "code",
      "execution_count": null,
      "metadata": {
        "colab": {
          "base_uri": "https://localhost:8080/",
          "height": 468
        },
        "id": "xtMzcKjAyLYH",
        "outputId": "4f6115b4-d2db-4e7f-b523-e30fd08a82a0"
      },
      "outputs": [
        {
          "data": {
            "text/plain": [
              "<Axes: xlabel='OverallQual', ylabel='SalePrice'>"
            ]
          },
          "execution_count": 22,
          "metadata": {},
          "output_type": "execute_result"
        },
        {
          "data": {
            "image/png": "[encoded data removed]",
            "text/plain": [
              "<Figure size 640x480 with 1 Axes>"
            ]
          },
          "metadata": {},
          "output_type": "display_data"
        }
      ],
      "source": [
        "##OverallQual has higher correlation with target feature\n",
        "##We can remove outliers from OverallQual\n",
        "##Generate A boxplot to find the outliers in OverallQual\n",
        "\n",
        "sns.boxplot(df, x = 'OverallQual', y = 'SalePrice')"
      ]
    },
    {
      "cell_type": "code",
      "execution_count": null,
      "metadata": {
        "id": "GIpV9I5KyoL9"
      },
      "outputs": [],
      "source": [
        "##Removing the outliers from the OverallQual Feature\n",
        "df = df[~ ((df['OverallQual'] == 9) & (df['SalePrice'] > 450000)) &\n",
        "        ~ ((df['OverallQual'] == 8) & (df['SalePrice'] > 400000)) &\n",
        "        ~ ((df['OverallQual'] == 8) & (df['SalePrice'] < 150000)) &\n",
        "        ~ ((df['OverallQual'] == 7) & (df['SalePrice'] > 320000)) &\n",
        "        ~ ((df['OverallQual'] == 7) & (df['SalePrice'] < 100000)) &\n",
        "        ~ ((df['OverallQual'] == 6) & (df['SalePrice'] > 250000)) &\n",
        "        ~ ((df['OverallQual'] == 5) & (df['SalePrice'] > 200000)) &\n",
        "        ~ ((df['OverallQual'] == 4) & (df['SalePrice'] > 200000))]"
      ]
    },
    {
      "cell_type": "markdown",
      "metadata": {
        "id": "P0uTIoEz0ueu"
      },
      "source": [
        "Outliers using Local Outlier Factor"
      ]
    },
    {
      "cell_type": "code",
      "execution_count": null,
      "metadata": {
        "id": "XUgUHMLz0tm7"
      },
      "outputs": [],
      "source": [
        "#this code section was suggested to me by DATA 6200 class (preprocessing notes)\n",
        "\n",
        "from sklearn.neighbors import LocalOutlierFactor\n",
        "\n",
        "## a Local Outlier Factor model with number of neighbors parameter for calculation of LOF score\n",
        "clf = LocalOutlierFactor (n_neighbors= 15,)\n",
        "y_predict = clf.fit_predict(df)\n",
        "\n",
        "#if the output is -1, then outliers\n",
        "outliers = df[y_predict == -1]\n",
        "\n",
        "##Removing the outliers\n",
        "df = df.drop(outliers.index, axis =0)"
      ]
    },
    {
      "cell_type": "code",
      "execution_count": null,
      "metadata": {
        "colab": {
          "base_uri": "https://localhost:8080/"
        },
        "id": "JgYApffR3UVz",
        "outputId": "50d5fbd1-eab5-4486-c900-81e57f7d9d80"
      },
      "outputs": [
        {
          "data": {
            "text/plain": [
              "(912, 223)"
            ]
          },
          "execution_count": 25,
          "metadata": {},
          "output_type": "execute_result"
        }
      ],
      "source": [
        "df.shape"
      ]
    },
    {
      "cell_type": "markdown",
      "metadata": {
        "id": "JpDnZE5z4QUN"
      },
      "source": [
        "#**Modelling and Model Tuning**\n",
        "\n",
        "\n",
        "\n",
        "##*   K- Fold Cross Validation\n",
        "\n",
        "I split the entire housing training dataset into 5 equal sized  folds. So, by training the models on 4 folds (k-1) and testing the perfomance on the remaining subset by calculating the root mean squared error(rmse) for each fold, then finally calculating mean of these rmse values, I get the validation test set error.\n",
        "\n",
        "So, the cross validation process helps in better assessment of model performance since the process trains the model on different subsets of data  and does not depend on a single validation set, ensures consistency without being biased on a particular subset.\n",
        "\n",
        "##*   Forward Method for feature selection\n",
        "\n",
        "In this method, I iteratively add one feature at a time to find the best model features having minimum error on test data.\n",
        "\n",
        "##*  Usage of the entire training dataset to train the model\n",
        "\n",
        "So,after finding the best model, again train the model on entire training dataset ensures utilization of all available information which results in more accurate predictions.\n",
        "\n",
        "\n",
        "\n",
        "\n",
        "\n"
      ]
    },
    {
      "cell_type": "code",
      "execution_count": null,
      "metadata": {
        "id": "vAoixWbc4TK_"
      },
      "outputs": [],
      "source": [
        "X = df.drop('SalePrice', axis = 1)\n",
        "y = df['SalePrice']"
      ]
    },
    {
      "cell_type": "code",
      "execution_count": null,
      "metadata": {
        "id": "_Jj4AQ3Y5Ihy"
      },
      "outputs": [],
      "source": [
        "from sklearn.model_selection import train_test_split\n",
        "from sklearn.metrics import mean_squared_error\n",
        "from itertools import chain, combinations\n",
        "import statsmodels.api as sm"
      ]
    },
    {
      "cell_type": "code",
      "execution_count": null,
      "metadata": {
        "id": "UBsSGjlF-tGD"
      },
      "outputs": [],
      "source": [
        "## this code portion was suggested to me by DATA 6100 course github links for model selection\n",
        "from sklearn.model_selection import KFold\n",
        "\n",
        "## a method that fits a linear regression model for the selected subset of features\n",
        "## also measures performance by calculating average rmse\n",
        "##returns useful information for features selection\n",
        "def processSubset(feature_set, X, y):\n",
        "  #create a 5-fold cross-validation iterator\n",
        "  kf = KFold( n_splits= 5, shuffle=True, random_state =42)\n",
        "\n",
        "  #list to store rmse value\n",
        "  list_rmse_val = []\n",
        "\n",
        "  for train_index, test_index in kf.split(X):\n",
        "    # split features and target variable in train and test dataset\n",
        "    X_train, X_test = X.iloc[train_index], X.iloc[test_index]\n",
        "    y_train, y_test = y.iloc[train_index], y.iloc[test_index]\n",
        "    # a linear regression model\n",
        "    model = sm.OLS(y_train, X_train[list(feature_set)])\n",
        "    # fit the model to the training dataset\n",
        "    regr = model.fit()\n",
        "    # Calculate the root mean square error\n",
        "    RMSE_val = float(np.sqrt(np.mean((regr.predict(X_test[list(feature_set)])- y_test) ** 2)))\n",
        "    # append the rmse value to the list\n",
        "    list_rmse_val.append(RMSE_val)\n",
        "  #Calculate mean rmse value\n",
        "  average_rmse = np.mean(list_rmse_val)\n",
        "\n",
        "  # return information about number of features(p), list of feature names ('features'),\n",
        "  # trained model object ('model') and root mean squared error (RMSE)\n",
        "  return {'p': len(feature_set), 'features':feature_set, 'model':regr, 'RMSE': average_rmse}\n",
        "\n"
      ]
    },
    {
      "cell_type": "code",
      "execution_count": null,
      "metadata": {
        "id": "0vt_G4gTEtg7"
      },
      "outputs": [],
      "source": [
        "##this code portion was suggested to me by DATA 6100 course github links for model selection\n",
        "# a method for feature selection by addding one feature at a time\n",
        "def forward(predictors, X, y):\n",
        "  # creating a list of feature columns which is not included in the predictors column parameter\n",
        "  remaining_predictors = [col for col in X.columns if col not in predictors]\n",
        "\n",
        "  #list to store number of parameters, model object, rmse and feature names\n",
        "  results = []\n",
        "\n",
        "  #Iterating through the feature columns\n",
        "  for feature in remaining_predictors:\n",
        "    results.append(processSubset(predictors + [feature], X, y))\n",
        "  #store the results in a dataFrame\n",
        "  models = pd.DataFrame(results)\n",
        "\n",
        "  ##Find the model having lowest RMSE value\n",
        "  best_model = models.loc[models['RMSE'].argmin()]\n",
        "\n",
        "  return best_model\n",
        "\n"
      ]
    },
    {
      "cell_type": "code",
      "execution_count": null,
      "metadata": {
        "id": "PjDKwucVHsI-"
      },
      "outputs": [],
      "source": [
        "## This code section was suggested to me by DATA 6100 course github links for model selection\n",
        "\n",
        "# creating a dataframe to store information of number of features, root mean squared errot, list of features names,\n",
        "# and trained model object\n",
        "models = pd.DataFrame(columns =['p','RMSE','features','model'])\n",
        "\n",
        "#list to store feature names\n",
        "predictors = []\n",
        "#get the total number of features\n",
        "number_of_features = len(X.columns)\n",
        "# iterating through the total number of features to find the model with lowest rmse value\n",
        "for i in range(1,number_of_features +1):\n",
        "  # call forward method to find the model having lowest rmse value\n",
        "  models.loc[i] = forward(predictors, X, y)\n",
        "  # store the list of features of this iteration in predictors\n",
        "  predictors = models.loc[i]['model'].model.exog_names\n",
        "#converting rmse values to float type\n",
        "models['RMSE'] = models['RMSE'].astype(float)"
      ]
    },
    {
      "cell_type": "markdown",
      "metadata": {
        "id": "PTsTQRepMHeH"
      },
      "source": [
        "Plot"
      ]
    },
    {
      "cell_type": "code",
      "execution_count": null,
      "metadata": {
        "colab": {
          "base_uri": "https://localhost:8080/",
          "height": 467
        },
        "id": "eHhNOF6KMJCT",
        "outputId": "51faddab-5241-4ca4-eca4-3291c8f9ba46"
      },
      "outputs": [
        {
          "data": {
            "text/plain": [
              "[<matplotlib.lines.Line2D at 0x7ffae8cab670>]"
            ]
          },
          "execution_count": 31,
          "metadata": {},
          "output_type": "execute_result"
        },
        {
          "data": {
            "image/png": "[encoded data removed]",
            "text/plain": [
              "<Figure size 640x480 with 1 Axes>"
            ]
          },
          "metadata": {},
          "output_type": "display_data"
        }
      ],
      "source": [
        "##this code section was suggested to me by DATA 6100 course github link for model selection\n",
        "##Generate a scatter plot for number of predictors vs root mean squared value\n",
        "plt.plot(models['p'],models['RMSE'],'ob')\n",
        "\n",
        "plt.xlabel(\"Number of predictors\")\n",
        "plt.ylabel (\"RMSE\")\n",
        "\n",
        "# identifying the best performing model with lowest root mean squared value\n",
        "plt.plot(models['p'][models['RMSE'].idxmin()],models['RMSE'].min(),'or')\n"
      ]
    },
    {
      "cell_type": "code",
      "execution_count": null,
      "metadata": {
        "colab": {
          "base_uri": "https://localhost:8080/",
          "height": 424
        },
        "id": "gEmiACd86Jb3",
        "outputId": "2f4d3238-97b4-427f-ceca-b0d0ff851428"
      },
      "outputs": [
        {
          "data": {
            "text/html": [
              "\n",
              "  <div id=\"df-06db1cf4-8b18-4e53-9b8e-6b68315f161c\" class=\"colab-df-container\">\n",
              "    <div>\n",
              "<style scoped>\n",
              "    .dataframe tbody tr th:only-of-type {\n",
              "        vertical-align: middle;\n",
              "    }\n",
              "\n",
              "    .dataframe tbody tr th {\n",
              "        vertical-align: top;\n",
              "    }\n",
              "\n",
              "    .dataframe thead th {\n",
              "        text-align: right;\n",
              "    }\n",
              "</style>\n",
              "<table border=\"1\" class=\"dataframe\">\n",
              "  <thead>\n",
              "    <tr style=\"text-align: right;\">\n",
              "      <th></th>\n",
              "      <th>p</th>\n",
              "      <th>RMSE</th>\n",
              "      <th>features</th>\n",
              "      <th>model</th>\n",
              "    </tr>\n",
              "  </thead>\n",
              "  <tbody>\n",
              "    <tr>\n",
              "      <th>1</th>\n",
              "      <td>1</td>\n",
              "      <td>40451.182328</td>\n",
              "      <td>[OverallQual]</td>\n",
              "      <td>&lt;statsmodels.regression.linear_model.Regressio...</td>\n",
              "    </tr>\n",
              "    <tr>\n",
              "      <th>2</th>\n",
              "      <td>2</td>\n",
              "      <td>36599.196855</td>\n",
              "      <td>[OverallQual, GarageArea]</td>\n",
              "      <td>&lt;statsmodels.regression.linear_model.Regressio...</td>\n",
              "    </tr>\n",
              "    <tr>\n",
              "      <th>3</th>\n",
              "      <td>3</td>\n",
              "      <td>33568.634541</td>\n",
              "      <td>[OverallQual, GarageArea, YrSold]</td>\n",
              "      <td>&lt;statsmodels.regression.linear_model.Regressio...</td>\n",
              "    </tr>\n",
              "    <tr>\n",
              "      <th>4</th>\n",
              "      <td>4</td>\n",
              "      <td>30037.581294</td>\n",
              "      <td>[OverallQual, GarageArea, YrSold, GrLivArea]</td>\n",
              "      <td>&lt;statsmodels.regression.linear_model.Regressio...</td>\n",
              "    </tr>\n",
              "    <tr>\n",
              "      <th>5</th>\n",
              "      <td>5</td>\n",
              "      <td>27700.136632</td>\n",
              "      <td>[OverallQual, GarageArea, YrSold, GrLivArea, T...</td>\n",
              "      <td>&lt;statsmodels.regression.linear_model.Regressio...</td>\n",
              "    </tr>\n",
              "    <tr>\n",
              "      <th>...</th>\n",
              "      <td>...</td>\n",
              "      <td>...</td>\n",
              "      <td>...</td>\n",
              "      <td>...</td>\n",
              "    </tr>\n",
              "    <tr>\n",
              "      <th>218</th>\n",
              "      <td>218</td>\n",
              "      <td>21248.886607</td>\n",
              "      <td>[OverallQual, GarageArea, YrSold, GrLivArea, T...</td>\n",
              "      <td>&lt;statsmodels.regression.linear_model.Regressio...</td>\n",
              "    </tr>\n",
              "    <tr>\n",
              "      <th>219</th>\n",
              "      <td>219</td>\n",
              "      <td>21497.989842</td>\n",
              "      <td>[OverallQual, GarageArea, YrSold, GrLivArea, T...</td>\n",
              "      <td>&lt;statsmodels.regression.linear_model.Regressio...</td>\n",
              "    </tr>\n",
              "    <tr>\n",
              "      <th>220</th>\n",
              "      <td>220</td>\n",
              "      <td>21830.035936</td>\n",
              "      <td>[OverallQual, GarageArea, YrSold, GrLivArea, T...</td>\n",
              "      <td>&lt;statsmodels.regression.linear_model.Regressio...</td>\n",
              "    </tr>\n",
              "    <tr>\n",
              "      <th>221</th>\n",
              "      <td>221</td>\n",
              "      <td>21832.753702</td>\n",
              "      <td>[OverallQual, GarageArea, YrSold, GrLivArea, T...</td>\n",
              "      <td>&lt;statsmodels.regression.linear_model.Regressio...</td>\n",
              "    </tr>\n",
              "    <tr>\n",
              "      <th>222</th>\n",
              "      <td>222</td>\n",
              "      <td>22631.893929</td>\n",
              "      <td>[OverallQual, GarageArea, YrSold, GrLivArea, T...</td>\n",
              "      <td>&lt;statsmodels.regression.linear_model.Regressio...</td>\n",
              "    </tr>\n",
              "  </tbody>\n",
              "</table>\n",
              "<p>222 rows × 4 columns</p>\n",
              "</div>\n",
              "    <div class=\"colab-df-buttons\">\n",
              "\n",
              "  <div class=\"colab-df-container\">\n",
              "    <button class=\"colab-df-convert\" onclick=\"convertToInteractive('df-06db1cf4-8b18-4e53-9b8e-6b68315f161c')\"\n",
              "            title=\"Convert this dataframe to an interactive table.\"\n",
              "            style=\"display:none;\">\n",
              "\n",
              "  <svg xmlns=\"http://www.w3.org/2000/svg\" height=\"24px\" viewBox=\"0 -960 960 960\">\n",
              "    <path d=\"M120-120v-720h720v720H120Zm60-500h600v-160H180v160Zm220 220h160v-160H400v160Zm0 220h160v-160H400v160ZM180-400h160v-160H180v160Zm440 0h160v-160H620v160ZM180-180h160v-160H180v160Zm440 0h160v-160H620v160Z\"/>\n",
              "  </svg>\n",
              "    </button>\n",
              "\n",
              "  <style>\n",
              "    .colab-df-container {\n",
              "      display:flex;\n",
              "      gap: 12px;\n",
              "    }\n",
              "\n",
              "    .colab-df-convert {\n",
              "      background-color: #E8F0FE;\n",
              "      border: none;\n",
              "      border-radius: 50%;\n",
              "      cursor: pointer;\n",
              "      display: none;\n",
              "      fill: #1967D2;\n",
              "      height: 32px;\n",
              "      padding: 0 0 0 0;\n",
              "      width: 32px;\n",
              "    }\n",
              "\n",
              "    .colab-df-convert:hover {\n",
              "      background-color: #E2EBFA;\n",
              "      box-shadow: 0px 1px 2px rgba(60, 64, 67, 0.3), 0px 1px 3px 1px rgba(60, 64, 67, 0.15);\n",
              "      fill: #174EA6;\n",
              "    }\n",
              "\n",
              "    .colab-df-buttons div {\n",
              "      margin-bottom: 4px;\n",
              "    }\n",
              "\n",
              "    [theme=dark] .colab-df-convert {\n",
              "      background-color: #3B4455;\n",
              "      fill: #D2E3FC;\n",
              "    }\n",
              "\n",
              "    [theme=dark] .colab-df-convert:hover {\n",
              "      background-color: #434B5C;\n",
              "      box-shadow: 0px 1px 3px 1px rgba(0, 0, 0, 0.15);\n",
              "      filter: drop-shadow(0px 1px 2px rgba(0, 0, 0, 0.3));\n",
              "      fill: #FFFFFF;\n",
              "    }\n",
              "  </style>\n",
              "\n",
              "    <script>\n",
              "      const buttonEl =\n",
              "        document.querySelector('#df-06db1cf4-8b18-4e53-9b8e-6b68315f161c button.colab-df-convert');\n",
              "      buttonEl.style.display =\n",
              "        google.colab.kernel.accessAllowed ? 'block' : 'none';\n",
              "\n",
              "      async function convertToInteractive(key) {\n",
              "        const element = document.querySelector('#df-06db1cf4-8b18-4e53-9b8e-6b68315f161c');\n",
              "        const dataTable =\n",
              "          await google.colab.kernel.invokeFunction('convertToInteractive',\n",
              "                                                    [key], {});\n",
              "        if (!dataTable) return;\n",
              "\n",
              "        const docLinkHtml = 'Like what you see? Visit the ' +\n",
              "          '<a target=\"_blank\" href=https://colab.research.google.com/notebooks/data_table.ipynb>data table notebook</a>'\n",
              "          + ' to learn more about interactive tables.';\n",
              "        element.innerHTML = '';\n",
              "        dataTable['output_type'] = 'display_data';\n",
              "        await google.colab.output.renderOutput(dataTable, element);\n",
              "        const docLink = document.createElement('div');\n",
              "        docLink.innerHTML = docLinkHtml;\n",
              "        element.appendChild(docLink);\n",
              "      }\n",
              "    </script>\n",
              "  </div>\n",
              "\n",
              "\n",
              "<div id=\"df-74c49d04-3dbf-48d2-9f5a-4b83a197daff\">\n",
              "  <button class=\"colab-df-quickchart\" onclick=\"quickchart('df-74c49d04-3dbf-48d2-9f5a-4b83a197daff')\"\n",
              "            title=\"Suggest charts.\"\n",
              "            style=\"display:none;\">\n",
              "\n",
              "<svg xmlns=\"http://www.w3.org/2000/svg\" height=\"24px\"viewBox=\"0 0 24 24\"\n",
              "     width=\"24px\">\n",
              "    <g>\n",
              "        <path d=\"M19 3H5c-1.1 0-2 .9-2 2v14c0 1.1.9 2 2 2h14c1.1 0 2-.9 2-2V5c0-1.1-.9-2-2-2zM9 17H7v-7h2v7zm4 0h-2V7h2v10zm4 0h-2v-4h2v4z\"/>\n",
              "    </g>\n",
              "</svg>\n",
              "  </button>\n",
              "\n",
              "<style>\n",
              "  .colab-df-quickchart {\n",
              "      --bg-color: #E8F0FE;\n",
              "      --fill-color: #1967D2;\n",
              "      --hover-bg-color: #E2EBFA;\n",
              "      --hover-fill-color: #174EA6;\n",
              "      --disabled-fill-color: #AAA;\n",
              "      --disabled-bg-color: #DDD;\n",
              "  }\n",
              "\n",
              "  [theme=dark] .colab-df-quickchart {\n",
              "      --bg-color: #3B4455;\n",
              "      --fill-color: #D2E3FC;\n",
              "      --hover-bg-color: #434B5C;\n",
              "      --hover-fill-color: #FFFFFF;\n",
              "      --disabled-bg-color: #3B4455;\n",
              "      --disabled-fill-color: #666;\n",
              "  }\n",
              "\n",
              "  .colab-df-quickchart {\n",
              "    background-color: var(--bg-color);\n",
              "    border: none;\n",
              "    border-radius: 50%;\n",
              "    cursor: pointer;\n",
              "    display: none;\n",
              "    fill: var(--fill-color);\n",
              "    height: 32px;\n",
              "    padding: 0;\n",
              "    width: 32px;\n",
              "  }\n",
              "\n",
              "  .colab-df-quickchart:hover {\n",
              "    background-color: var(--hover-bg-color);\n",
              "    box-shadow: 0 1px 2px rgba(60, 64, 67, 0.3), 0 1px 3px 1px rgba(60, 64, 67, 0.15);\n",
              "    fill: var(--button-hover-fill-color);\n",
              "  }\n",
              "\n",
              "  .colab-df-quickchart-complete:disabled,\n",
              "  .colab-df-quickchart-complete:disabled:hover {\n",
              "    background-color: var(--disabled-bg-color);\n",
              "    fill: var(--disabled-fill-color);\n",
              "    box-shadow: none;\n",
              "  }\n",
              "\n",
              "  .colab-df-spinner {\n",
              "    border: 2px solid var(--fill-color);\n",
              "    border-color: transparent;\n",
              "    border-bottom-color: var(--fill-color);\n",
              "    animation:\n",
              "      spin 1s steps(1) infinite;\n",
              "  }\n",
              "\n",
              "  @keyframes spin {\n",
              "    0% {\n",
              "      border-color: transparent;\n",
              "      border-bottom-color: var(--fill-color);\n",
              "      border-left-color: var(--fill-color);\n",
              "    }\n",
              "    20% {\n",
              "      border-color: transparent;\n",
              "      border-left-color: var(--fill-color);\n",
              "      border-top-color: var(--fill-color);\n",
              "    }\n",
              "    30% {\n",
              "      border-color: transparent;\n",
              "      border-left-color: var(--fill-color);\n",
              "      border-top-color: var(--fill-color);\n",
              "      border-right-color: var(--fill-color);\n",
              "    }\n",
              "    40% {\n",
              "      border-color: transparent;\n",
              "      border-right-color: var(--fill-color);\n",
              "      border-top-color: var(--fill-color);\n",
              "    }\n",
              "    60% {\n",
              "      border-color: transparent;\n",
              "      border-right-color: var(--fill-color);\n",
              "    }\n",
              "    80% {\n",
              "      border-color: transparent;\n",
              "      border-right-color: var(--fill-color);\n",
              "      border-bottom-color: var(--fill-color);\n",
              "    }\n",
              "    90% {\n",
              "      border-color: transparent;\n",
              "      border-bottom-color: var(--fill-color);\n",
              "    }\n",
              "  }\n",
              "</style>\n",
              "\n",
              "  <script>\n",
              "    async function quickchart(key) {\n",
              "      const quickchartButtonEl =\n",
              "        document.querySelector('#' + key + ' button');\n",
              "      quickchartButtonEl.disabled = true;  // To prevent multiple clicks.\n",
              "      quickchartButtonEl.classList.add('colab-df-spinner');\n",
              "      try {\n",
              "        const charts = await google.colab.kernel.invokeFunction(\n",
              "            'suggestCharts', [key], {});\n",
              "      } catch (error) {\n",
              "        console.error('Error during call to suggestCharts:', error);\n",
              "      }\n",
              "      quickchartButtonEl.classList.remove('colab-df-spinner');\n",
              "      quickchartButtonEl.classList.add('colab-df-quickchart-complete');\n",
              "    }\n",
              "    (() => {\n",
              "      let quickchartButtonEl =\n",
              "        document.querySelector('#df-74c49d04-3dbf-48d2-9f5a-4b83a197daff button');\n",
              "      quickchartButtonEl.style.display =\n",
              "        google.colab.kernel.accessAllowed ? 'block' : 'none';\n",
              "    })();\n",
              "  </script>\n",
              "</div>\n",
              "    </div>\n",
              "  </div>\n"
            ],
            "text/plain": [
              "       p          RMSE                                           features  \\\n",
              "1      1  40451.182328                                      [OverallQual]   \n",
              "2      2  36599.196855                          [OverallQual, GarageArea]   \n",
              "3      3  33568.634541                  [OverallQual, GarageArea, YrSold]   \n",
              "4      4  30037.581294       [OverallQual, GarageArea, YrSold, GrLivArea]   \n",
              "5      5  27700.136632  [OverallQual, GarageArea, YrSold, GrLivArea, T...   \n",
              "..   ...           ...                                                ...   \n",
              "218  218  21248.886607  [OverallQual, GarageArea, YrSold, GrLivArea, T...   \n",
              "219  219  21497.989842  [OverallQual, GarageArea, YrSold, GrLivArea, T...   \n",
              "220  220  21830.035936  [OverallQual, GarageArea, YrSold, GrLivArea, T...   \n",
              "221  221  21832.753702  [OverallQual, GarageArea, YrSold, GrLivArea, T...   \n",
              "222  222  22631.893929  [OverallQual, GarageArea, YrSold, GrLivArea, T...   \n",
              "\n",
              "                                                 model  \n",
              "1    <statsmodels.regression.linear_model.Regressio...  \n",
              "2    <statsmodels.regression.linear_model.Regressio...  \n",
              "3    <statsmodels.regression.linear_model.Regressio...  \n",
              "4    <statsmodels.regression.linear_model.Regressio...  \n",
              "5    <statsmodels.regression.linear_model.Regressio...  \n",
              "..                                                 ...  \n",
              "218  <statsmodels.regression.linear_model.Regressio...  \n",
              "219  <statsmodels.regression.linear_model.Regressio...  \n",
              "220  <statsmodels.regression.linear_model.Regressio...  \n",
              "221  <statsmodels.regression.linear_model.Regressio...  \n",
              "222  <statsmodels.regression.linear_model.Regressio...  \n",
              "\n",
              "[222 rows x 4 columns]"
            ]
          },
          "execution_count": 32,
          "metadata": {},
          "output_type": "execute_result"
        }
      ],
      "source": [
        "## viewing list of models with number features, names with rmse values\n",
        "models"
      ]
    },
    {
      "cell_type": "markdown",
      "metadata": {
        "id": "PVomLLZrlgDE"
      },
      "source": [
        "Using the entire training dataset"
      ]
    },
    {
      "cell_type": "code",
      "execution_count": null,
      "metadata": {
        "id": "g3FP41xqljsp"
      },
      "outputs": [],
      "source": [
        "#method that fits a linear regression model for the selected subset of features\n",
        "# return informations about feature names, rmse which is useful for feature selection\n",
        "def processSubsetWithoutTestData(feature_set, X, y):\n",
        "  #a linear regression model\n",
        "  model = sm.OLS(y, X[list(feature_set)])\n",
        "  #fit the model in the entire dataset\n",
        "  regr = model.fit()\n",
        "  #CALCULATE root mean squared value\n",
        "  RMSE = float(np.sqrt(np.mean((regr.predict(X[list(feature_set)]) -y) ** 2)))\n",
        "  ##return the information about number of features, list of feature names,\n",
        "  ## train model object and root mean squared error\n",
        "  return {'p': len(feature_set),'features': feature_set, 'model':regr, 'RMSE': RMSE }\n"
      ]
    },
    {
      "cell_type": "code",
      "execution_count": null,
      "metadata": {
        "id": "n_NgTSLrnlU3"
      },
      "outputs": [],
      "source": [
        "# a function for feature selection by adding one feature at a time on the entire training dataset\n",
        "def forward_method_for_entire_training_data( predictors, X, y):\n",
        "  #creating a list of feature column which is not included in the parameter 'predictors'\n",
        "  #finding the predictors that still need to work on\n",
        "  remaining_features = [col for  col in X.columns if col not in predictors]\n",
        "\n",
        "  # list to store number of parameter, rmse, train model object and feature names\n",
        "  results = []\n",
        "\n",
        "  #iterating through the  remaining feature columns\n",
        "  for col in remaining_features:\n",
        "    ## store the results of number of parameter, rmse, train model object and feature names\n",
        "    results.append(processSubsetWithoutTestData(predictors+[col],X,y))\n",
        "\n",
        "  #store the results in a dataframe\n",
        "  models =pd.DataFrame(results)\n",
        "\n",
        "  # choosing the model with lowest rmse value\n",
        "  best_model = models.loc[models['RMSE'].argmin()]\n",
        "\n",
        "  return best_model\n"
      ]
    },
    {
      "cell_type": "code",
      "execution_count": null,
      "metadata": {
        "id": "gWjJ4QsBpgfF"
      },
      "outputs": [],
      "source": [
        "##This code portion was suggested to me by DATA 6100 course github links for model selection\n",
        "\n",
        "## Using the entire training data\n",
        "\n",
        "##creating a data frame to store information of rmse and the model for the entire training data\n",
        "models_with_noTestSet = pd.DataFrame(columns =['RMSE', 'model'])\n",
        "\n",
        "#list to store feature names\n",
        "predictor_features = []\n",
        "\n",
        "#Iterate through the total number of features in the training data\n",
        "number_of_features = len(X.columns)\n",
        "for i in range(1, number_of_features +1):\n",
        "  #calling the forward method to find the  features of model with lowest rmse value\n",
        "  models_with_noTestSet.loc[i] = forward_method_for_entire_training_data(predictor_features,X, y)\n",
        "  #listing the name of features of the selected model to predictor_features\n",
        "  predictor_features = models_with_noTestSet.loc[i]['model'].model.exog_names"
      ]
    },
    {
      "cell_type": "code",
      "execution_count": null,
      "metadata": {
        "colab": {
          "base_uri": "https://localhost:8080/",
          "height": 467
        },
        "id": "mkC1lOMaqc9u",
        "outputId": "fa046d3c-565c-42ea-9955-1de1a8d12753"
      },
      "outputs": [
        {
          "data": {
            "text/plain": [
              "[<matplotlib.lines.Line2D at 0x7ffae88d3a60>]"
            ]
          },
          "execution_count": 36,
          "metadata": {},
          "output_type": "execute_result"
        },
        {
          "data": {
            "image/png": "[encoded data removed]",
            "text/plain": [
              "<Figure size 640x480 with 1 Axes>"
            ]
          },
          "metadata": {},
          "output_type": "display_data"
        }
      ],
      "source": [
        "## creating a plot for RMSE value for entire Train Dataset vs number of predictors\n",
        "plt.plot(models_with_noTestSet['RMSE'],'ob')\n",
        "plt.xlabel('number of predictors')\n",
        "plt.ylabel('RMSE value for train set')\n",
        "\n",
        "# identifying the point that have the lowest root mean squared value for training set\n",
        "plt.plot(models_with_noTestSet['RMSE'].astype(float).idxmin(), models_with_noTestSet['RMSE'].min(),'or')\n"
      ]
    },
    {
      "cell_type": "code",
      "execution_count": null,
      "metadata": {
        "colab": {
          "base_uri": "https://localhost:8080/"
        },
        "id": "BNTJhw0RyvNH",
        "outputId": "25929d83-6364-4bc8-d87b-7a5ad0f38f40"
      },
      "outputs": [
        {
          "data": {
            "text/plain": [
              "['OverallQual',\n",
              " 'GarageArea',\n",
              " 'GarageType_Detchd',\n",
              " 'GrLivArea',\n",
              " 'YrSold',\n",
              " 'TotalBsmtSF',\n",
              " 'KitchenQual',\n",
              " 'BsmtFinSF1',\n",
              " 'SaleType_New',\n",
              " 'LotArea',\n",
              " 'ExterQual',\n",
              " 'Neighborhood_Crawfor',\n",
              " 'YearBuilt',\n",
              " 'OverallCond',\n",
              " 'Neighborhood_NridgHt',\n",
              " 'BldgType_1Fam',\n",
              " 'BsmtExposure',\n",
              " 'Neighborhood_StoneBr',\n",
              " 'Exterior1st_BrkFace',\n",
              " 'BedroomAbvGr',\n",
              " 'Neighborhood_NoRidge',\n",
              " 'GarageFinish_RFn',\n",
              " 'Neighborhood_Somerst',\n",
              " 'BsmtCond',\n",
              " 'Functional_Typ',\n",
              " 'Condition1_Norm',\n",
              " 'Neighborhood_BrkSide',\n",
              " 'Exterior1st_Stucco',\n",
              " 'WoodDeckSF',\n",
              " 'LandSlope_Sev',\n",
              " 'LandContour_HLS',\n",
              " 'Fireplaces',\n",
              " 'Foundation_PConc',\n",
              " 'RoofStyle_Gable',\n",
              " 'Neighborhood_Veenker',\n",
              " 'Neighborhood_NPkVill',\n",
              " 'GarageYrBlt',\n",
              " 'SaleCondition_Abnorml',\n",
              " 'Exterior1st_MetalSd',\n",
              " 'GarageCars',\n",
              " 'Condition1_RRAe',\n",
              " 'HouseStyle_2.5Unf',\n",
              " 'ScreenPorch',\n",
              " 'BsmtFinType2',\n",
              " 'Foundation_Wood',\n",
              " 'HouseStyle_1Story',\n",
              " 'Exterior1st_CemntBd',\n",
              " 'BldgType_2fmCon',\n",
              " 'MasVnrArea',\n",
              " 'Exterior1st_VinylSd',\n",
              " 'Neighborhood_BrDale',\n",
              " 'BldgType_Twnhs',\n",
              " 'Foundation_Slab',\n",
              " 'SaleType_Con',\n",
              " 'SaleType_CWD',\n",
              " 'ExterCond',\n",
              " 'HouseStyle_2.5Fin',\n",
              " 'Heating_GasW',\n",
              " 'Neighborhood_Blmngtn',\n",
              " 'YearRemodAdd',\n",
              " 'BsmtFullBath',\n",
              " 'Exterior2nd_Wd Sdng',\n",
              " 'LotConfig_FR3',\n",
              " 'MasVnrType_NaN',\n",
              " 'Condition1_Artery',\n",
              " 'Functional_Maj2',\n",
              " 'Neighborhood_Edwards',\n",
              " 'LotShape_IR1',\n",
              " 'Neighborhood_CollgCr',\n",
              " 'Neighborhood_Gilbert',\n",
              " 'LotConfig_CulDSac',\n",
              " 'Electrical_FuseF',\n",
              " 'Fence_GdPrv',\n",
              " 'LotConfig_FR2',\n",
              " '1stFlrSF']"
            ]
          },
          "execution_count": 37,
          "metadata": {},
          "output_type": "execute_result"
        }
      ],
      "source": [
        "features = models_with_noTestSet.loc[75,'model'].model.exog_names\n",
        "features"
      ]
    },
    {
      "cell_type": "markdown",
      "metadata": {
        "id": "KbHKlWTN5lpi"
      },
      "source": [
        "##**Demonstration of Overfitting vs Underfitting**\n",
        "\n",
        "In case of overfitting, model tries fit all the points in the dataset including outliers, as a result, model performs tremendously well in the training dataset but as the model can not generalize well, it has a poor performance on test data.\n",
        "For example, for housing data, an overfit model takes high number predictor variables into account than it's required, which results in inaccurate predictions for test dataset."
      ]
    },
    {
      "cell_type": "code",
      "execution_count": null,
      "metadata": {
        "colab": {
          "base_uri": "https://localhost:8080/",
          "height": 449
        },
        "id": "b6HjdRvgnZbd",
        "outputId": "e3e81bbd-365c-4f7b-8d8d-81e9c5d6efb8"
      },
      "outputs": [
        {
          "data": {
            "image/png": "[encoded data removed]",
            "text/plain": [
              "<Figure size 640x480 with 1 Axes>"
            ]
          },
          "metadata": {},
          "output_type": "display_data"
        }
      ],
      "source": [
        "##overfitting with high number of predictor variables\n",
        "number_of_predictors =200\n",
        "\n",
        "plt.plot(models['RMSE'], 'og', label ='Test Error')\n",
        "plt.plot(number_of_predictors, models['RMSE'].loc[number_of_predictors],'or')\n",
        "plt.plot(models_with_noTestSet['RMSE'],'ob', label ='Train Error')\n",
        "plt.plot(number_of_predictors,models_with_noTestSet['RMSE'].loc[number_of_predictors],'or')\n",
        "plt.xlabel('Number of predictors')\n",
        "plt.ylabel('RMSE')\n",
        "plt.legend()\n",
        "plt.show()"
      ]
    },
    {
      "cell_type": "markdown",
      "metadata": {
        "id": "QR_wIJr35j9t"
      },
      "source": [
        "So, from the plot , we can see that when number of is 200, the model is overfitted which results in low error in training data but but high error in test data."
      ]
    },
    {
      "cell_type": "markdown",
      "metadata": {
        "id": "8Qoy95026Anf"
      },
      "source": [
        "In case of underfitting, the model is too simple and it performs poorly both on training and test dataset. This kind of model has a high bias as the predicted values are far from the true values, and has low variance becuase of lack of flexibility. For example, for housing data, an underfit model predicts sale price based on only few or low number of predictor varaiable. Since it lacks necessary relevant amount of predictor varibales, it provides predictions which are significanlty far from true values."
      ]
    },
    {
      "cell_type": "code",
      "execution_count": null,
      "metadata": {
        "colab": {
          "base_uri": "https://localhost:8080/",
          "height": 449
        },
        "id": "0B79DBCk4GA9",
        "outputId": "d32043f8-4ad6-4026-8ac3-07f8b709334b"
      },
      "outputs": [
        {
          "data": {
            "image/png": "[encoded data removed]",
            "text/plain": [
              "<Figure size 640x480 with 1 Axes>"
            ]
          },
          "metadata": {},
          "output_type": "display_data"
        }
      ],
      "source": [
        "##underfitting with having low number of predictors\n",
        "number_of_predictors = 10\n",
        "plt.plot(models['RMSE'],'og',label ='Test Error')\n",
        "plt.plot(number_of_predictors, models['RMSE'].loc[number_of_predictors],'or')\n",
        "\n",
        "plt.plot(models_with_noTestSet['RMSE'],'ob',label ='Train Error')\n",
        "plt.plot(number_of_predictors, models_with_noTestSet['RMSE'].loc[number_of_predictors],'or')\n",
        "\n",
        "plt.xlabel('number of predictors')\n",
        "plt.ylabel('RMSE')\n",
        "plt.legend()\n",
        "plt.show()"
      ]
    },
    {
      "cell_type": "markdown",
      "metadata": {
        "id": "NjF6EXcJ6Ku3"
      },
      "source": [
        "So, from the plot , we can see that when number of is 10, the model is underfitted which results in high error in both test and test dataset."
      ]
    },
    {
      "cell_type": "code",
      "execution_count": null,
      "metadata": {
        "colab": {
          "base_uri": "https://localhost:8080/",
          "height": 467
        },
        "id": "NURXzLQi68q6",
        "outputId": "894da234-2798-4f36-aaac-924fc888dae2"
      },
      "outputs": [
        {
          "data": {
            "text/plain": [
              "Text(0, 0.5, 'RMSE  for training dataset')"
            ]
          },
          "execution_count": 40,
          "metadata": {},
          "output_type": "execute_result"
        },
        {
          "data": {
            "image/png": "[encoded data removed]",
            "text/plain": [
              "<Figure size 640x480 with 1 Axes>"
            ]
          },
          "metadata": {},
          "output_type": "display_data"
        }
      ],
      "source": [
        "##plotting rmse for train dataset vs number of predictors\n",
        "plt.plot(models_with_noTestSet['RMSE'],'ob')\n",
        "plt.xlabel('Number of predictors')\n",
        "plt.ylabel('RMSE  for training dataset')"
      ]
    },
    {
      "cell_type": "markdown",
      "metadata": {
        "id": "9dalUMrh69E4"
      },
      "source": [
        "As we can see from the plot for rmse value for entire training data set, the error decrease as the number of variable predictors increases which indicates that underfit model having lower number of variable predictors has high error on train dataset while an overfit model having higher number of variable predictors provides less error in train dataset."
      ]
    },
    {
      "cell_type": "code",
      "execution_count": null,
      "metadata": {
        "colab": {
          "base_uri": "https://localhost:8080/",
          "height": 467
        },
        "id": "W9U9ewnv7i_X",
        "outputId": "d7ce566e-4ef5-4094-8aed-72da5c32e2c4"
      },
      "outputs": [
        {
          "data": {
            "text/plain": [
              "[<matplotlib.lines.Line2D at 0x7ffae8887940>]"
            ]
          },
          "execution_count": 41,
          "metadata": {},
          "output_type": "execute_result"
        },
        {
          "data": {
            "image/png": "[encoded data removed]",
            "text/plain": [
              "<Figure size 640x480 with 1 Axes>"
            ]
          },
          "metadata": {},
          "output_type": "display_data"
        }
      ],
      "source": [
        "# Generate a plot for RMSE value for test data vs Number of predictors\n",
        "plt.plot(models['RMSE'],'ob')\n",
        "plt.xlabel('Number of predictors')\n",
        "plt.ylabel('RMSE')\n",
        "\n",
        "#identifying the best performing model with lowest root mean squared value\n",
        "plt.plot(models['p'][models['RMSE'].idxmin()],models['RMSE'].min(),'or')"
      ]
    },
    {
      "cell_type": "markdown",
      "metadata": {
        "id": "hWIC046m7qR7"
      },
      "source": [
        "The above U shape curve shows that when the number of predictors are too low that means model is too simple to predict the target variable accurately, the model results in unreliable predictions with higher error on unseen new data. As the number of predictors increase , the error decreases, but after reaching an optimal point where the error is minimum, with the increase of number of predictors, the test error starts to increase again. So, when the model is too complex having too many predictors and try to fit every data point resulting in high variance and high error rate on new unseen data."
      ]
    },
    {
      "cell_type": "markdown",
      "metadata": {
        "id": "dizrGzjn7jPS"
      },
      "source": [
        "So, when the number of predictor variables is high, due to overfitting the error in the training set is low but since the overfit model can not generalize properly and due to high variance, we can see a high test error. So, the generalization gap is higher in overfit model because the model can not predict well on test data but has low error in training dataset.\n",
        "\n",
        "And when the number of predictor variables is too low, then due to high bias, a high train error can be observed. Also, since the model is too simple to predict the test dataset, which result in high test error. So, in case of underfitting, since both the train and test dataset error is high, the generalization gap is lower than the overfit model.\n",
        "\n",
        "So, as we go from overfitting to underfitting, the generalization gap decreases."
      ]
    },
    {
      "cell_type": "markdown",
      "metadata": {
        "id": "5G2Ul-I2mlIW"
      },
      "source": [
        "##**Predict on the Test Dataset**"
      ]
    },
    {
      "cell_type": "code",
      "execution_count": null,
      "metadata": {
        "colab": {
          "base_uri": "https://localhost:8080/",
          "height": 256
        },
        "id": "FcJMjb4NAxWS",
        "outputId": "e28288f3-330f-4ce3-ec8c-780992cbac29"
      },
      "outputs": [
        {
          "data": {
            "text/html": [
              "\n",
              "  <div id=\"df-b781106f-344f-446a-bde2-ac606f4c18fa\" class=\"colab-df-container\">\n",
              "    <div>\n",
              "<style scoped>\n",
              "    .dataframe tbody tr th:only-of-type {\n",
              "        vertical-align: middle;\n",
              "    }\n",
              "\n",
              "    .dataframe tbody tr th {\n",
              "        vertical-align: top;\n",
              "    }\n",
              "\n",
              "    .dataframe thead th {\n",
              "        text-align: right;\n",
              "    }\n",
              "</style>\n",
              "<table border=\"1\" class=\"dataframe\">\n",
              "  <thead>\n",
              "    <tr style=\"text-align: right;\">\n",
              "      <th></th>\n",
              "      <th>Id</th>\n",
              "      <th>MSSubClass</th>\n",
              "      <th>MSZoning</th>\n",
              "      <th>LotFrontage</th>\n",
              "      <th>LotArea</th>\n",
              "      <th>Street</th>\n",
              "      <th>Alley</th>\n",
              "      <th>LotShape</th>\n",
              "      <th>LandContour</th>\n",
              "      <th>Utilities</th>\n",
              "      <th>...</th>\n",
              "      <th>ScreenPorch</th>\n",
              "      <th>PoolArea</th>\n",
              "      <th>PoolQC</th>\n",
              "      <th>Fence</th>\n",
              "      <th>MiscFeature</th>\n",
              "      <th>MiscVal</th>\n",
              "      <th>MoSold</th>\n",
              "      <th>YrSold</th>\n",
              "      <th>SaleType</th>\n",
              "      <th>SaleCondition</th>\n",
              "    </tr>\n",
              "  </thead>\n",
              "  <tbody>\n",
              "    <tr>\n",
              "      <th>0</th>\n",
              "      <td>2</td>\n",
              "      <td>20</td>\n",
              "      <td>RL</td>\n",
              "      <td>80.0</td>\n",
              "      <td>9600</td>\n",
              "      <td>Pave</td>\n",
              "      <td>NaN</td>\n",
              "      <td>Reg</td>\n",
              "      <td>Lvl</td>\n",
              "      <td>AllPub</td>\n",
              "      <td>...</td>\n",
              "      <td>0</td>\n",
              "      <td>0</td>\n",
              "      <td>NaN</td>\n",
              "      <td>NaN</td>\n",
              "      <td>NaN</td>\n",
              "      <td>0</td>\n",
              "      <td>5</td>\n",
              "      <td>2007</td>\n",
              "      <td>WD</td>\n",
              "      <td>Normal</td>\n",
              "    </tr>\n",
              "    <tr>\n",
              "      <th>1</th>\n",
              "      <td>9</td>\n",
              "      <td>50</td>\n",
              "      <td>RM</td>\n",
              "      <td>51.0</td>\n",
              "      <td>6120</td>\n",
              "      <td>Pave</td>\n",
              "      <td>NaN</td>\n",
              "      <td>Reg</td>\n",
              "      <td>Lvl</td>\n",
              "      <td>AllPub</td>\n",
              "      <td>...</td>\n",
              "      <td>0</td>\n",
              "      <td>0</td>\n",
              "      <td>NaN</td>\n",
              "      <td>NaN</td>\n",
              "      <td>NaN</td>\n",
              "      <td>0</td>\n",
              "      <td>4</td>\n",
              "      <td>2008</td>\n",
              "      <td>WD</td>\n",
              "      <td>Abnorml</td>\n",
              "    </tr>\n",
              "    <tr>\n",
              "      <th>2</th>\n",
              "      <td>18</td>\n",
              "      <td>90</td>\n",
              "      <td>RL</td>\n",
              "      <td>72.0</td>\n",
              "      <td>10791</td>\n",
              "      <td>Pave</td>\n",
              "      <td>NaN</td>\n",
              "      <td>Reg</td>\n",
              "      <td>Lvl</td>\n",
              "      <td>AllPub</td>\n",
              "      <td>...</td>\n",
              "      <td>0</td>\n",
              "      <td>0</td>\n",
              "      <td>NaN</td>\n",
              "      <td>NaN</td>\n",
              "      <td>Shed</td>\n",
              "      <td>500</td>\n",
              "      <td>10</td>\n",
              "      <td>2006</td>\n",
              "      <td>WD</td>\n",
              "      <td>Normal</td>\n",
              "    </tr>\n",
              "    <tr>\n",
              "      <th>3</th>\n",
              "      <td>19</td>\n",
              "      <td>20</td>\n",
              "      <td>RL</td>\n",
              "      <td>66.0</td>\n",
              "      <td>13695</td>\n",
              "      <td>Pave</td>\n",
              "      <td>NaN</td>\n",
              "      <td>Reg</td>\n",
              "      <td>Lvl</td>\n",
              "      <td>AllPub</td>\n",
              "      <td>...</td>\n",
              "      <td>0</td>\n",
              "      <td>0</td>\n",
              "      <td>NaN</td>\n",
              "      <td>NaN</td>\n",
              "      <td>NaN</td>\n",
              "      <td>0</td>\n",
              "      <td>6</td>\n",
              "      <td>2008</td>\n",
              "      <td>WD</td>\n",
              "      <td>Normal</td>\n",
              "    </tr>\n",
              "    <tr>\n",
              "      <th>4</th>\n",
              "      <td>20</td>\n",
              "      <td>20</td>\n",
              "      <td>RL</td>\n",
              "      <td>70.0</td>\n",
              "      <td>7560</td>\n",
              "      <td>Pave</td>\n",
              "      <td>NaN</td>\n",
              "      <td>Reg</td>\n",
              "      <td>Lvl</td>\n",
              "      <td>AllPub</td>\n",
              "      <td>...</td>\n",
              "      <td>0</td>\n",
              "      <td>0</td>\n",
              "      <td>NaN</td>\n",
              "      <td>MnPrv</td>\n",
              "      <td>NaN</td>\n",
              "      <td>0</td>\n",
              "      <td>5</td>\n",
              "      <td>2009</td>\n",
              "      <td>COD</td>\n",
              "      <td>Abnorml</td>\n",
              "    </tr>\n",
              "  </tbody>\n",
              "</table>\n",
              "<p>5 rows × 80 columns</p>\n",
              "</div>\n",
              "    <div class=\"colab-df-buttons\">\n",
              "\n",
              "  <div class=\"colab-df-container\">\n",
              "    <button class=\"colab-df-convert\" onclick=\"convertToInteractive('df-b781106f-344f-446a-bde2-ac606f4c18fa')\"\n",
              "            title=\"Convert this dataframe to an interactive table.\"\n",
              "            style=\"display:none;\">\n",
              "\n",
              "  <svg xmlns=\"http://www.w3.org/2000/svg\" height=\"24px\" viewBox=\"0 -960 960 960\">\n",
              "    <path d=\"M120-120v-720h720v720H120Zm60-500h600v-160H180v160Zm220 220h160v-160H400v160Zm0 220h160v-160H400v160ZM180-400h160v-160H180v160Zm440 0h160v-160H620v160ZM180-180h160v-160H180v160Zm440 0h160v-160H620v160Z\"/>\n",
              "  </svg>\n",
              "    </button>\n",
              "\n",
              "  <style>\n",
              "    .colab-df-container {\n",
              "      display:flex;\n",
              "      gap: 12px;\n",
              "    }\n",
              "\n",
              "    .colab-df-convert {\n",
              "      background-color: #E8F0FE;\n",
              "      border: none;\n",
              "      border-radius: 50%;\n",
              "      cursor: pointer;\n",
              "      display: none;\n",
              "      fill: #1967D2;\n",
              "      height: 32px;\n",
              "      padding: 0 0 0 0;\n",
              "      width: 32px;\n",
              "    }\n",
              "\n",
              "    .colab-df-convert:hover {\n",
              "      background-color: #E2EBFA;\n",
              "      box-shadow: 0px 1px 2px rgba(60, 64, 67, 0.3), 0px 1px 3px 1px rgba(60, 64, 67, 0.15);\n",
              "      fill: #174EA6;\n",
              "    }\n",
              "\n",
              "    .colab-df-buttons div {\n",
              "      margin-bottom: 4px;\n",
              "    }\n",
              "\n",
              "    [theme=dark] .colab-df-convert {\n",
              "      background-color: #3B4455;\n",
              "      fill: #D2E3FC;\n",
              "    }\n",
              "\n",
              "    [theme=dark] .colab-df-convert:hover {\n",
              "      background-color: #434B5C;\n",
              "      box-shadow: 0px 1px 3px 1px rgba(0, 0, 0, 0.15);\n",
              "      filter: drop-shadow(0px 1px 2px rgba(0, 0, 0, 0.3));\n",
              "      fill: #FFFFFF;\n",
              "    }\n",
              "  </style>\n",
              "\n",
              "    <script>\n",
              "      const buttonEl =\n",
              "        document.querySelector('#df-b781106f-344f-446a-bde2-ac606f4c18fa button.colab-df-convert');\n",
              "      buttonEl.style.display =\n",
              "        google.colab.kernel.accessAllowed ? 'block' : 'none';\n",
              "\n",
              "      async function convertToInteractive(key) {\n",
              "        const element = document.querySelector('#df-b781106f-344f-446a-bde2-ac606f4c18fa');\n",
              "        const dataTable =\n",
              "          await google.colab.kernel.invokeFunction('convertToInteractive',\n",
              "                                                    [key], {});\n",
              "        if (!dataTable) return;\n",
              "\n",
              "        const docLinkHtml = 'Like what you see? Visit the ' +\n",
              "          '<a target=\"_blank\" href=https://colab.research.google.com/notebooks/data_table.ipynb>data table notebook</a>'\n",
              "          + ' to learn more about interactive tables.';\n",
              "        element.innerHTML = '';\n",
              "        dataTable['output_type'] = 'display_data';\n",
              "        await google.colab.output.renderOutput(dataTable, element);\n",
              "        const docLink = document.createElement('div');\n",
              "        docLink.innerHTML = docLinkHtml;\n",
              "        element.appendChild(docLink);\n",
              "      }\n",
              "    </script>\n",
              "  </div>\n",
              "\n",
              "\n",
              "<div id=\"df-178035d5-be0a-483b-bd19-8741c41c0e77\">\n",
              "  <button class=\"colab-df-quickchart\" onclick=\"quickchart('df-178035d5-be0a-483b-bd19-8741c41c0e77')\"\n",
              "            title=\"Suggest charts.\"\n",
              "            style=\"display:none;\">\n",
              "\n",
              "<svg xmlns=\"http://www.w3.org/2000/svg\" height=\"24px\"viewBox=\"0 0 24 24\"\n",
              "     width=\"24px\">\n",
              "    <g>\n",
              "        <path d=\"M19 3H5c-1.1 0-2 .9-2 2v14c0 1.1.9 2 2 2h14c1.1 0 2-.9 2-2V5c0-1.1-.9-2-2-2zM9 17H7v-7h2v7zm4 0h-2V7h2v10zm4 0h-2v-4h2v4z\"/>\n",
              "    </g>\n",
              "</svg>\n",
              "  </button>\n",
              "\n",
              "<style>\n",
              "  .colab-df-quickchart {\n",
              "      --bg-color: #E8F0FE;\n",
              "      --fill-color: #1967D2;\n",
              "      --hover-bg-color: #E2EBFA;\n",
              "      --hover-fill-color: #174EA6;\n",
              "      --disabled-fill-color: #AAA;\n",
              "      --disabled-bg-color: #DDD;\n",
              "  }\n",
              "\n",
              "  [theme=dark] .colab-df-quickchart {\n",
              "      --bg-color: #3B4455;\n",
              "      --fill-color: #D2E3FC;\n",
              "      --hover-bg-color: #434B5C;\n",
              "      --hover-fill-color: #FFFFFF;\n",
              "      --disabled-bg-color: #3B4455;\n",
              "      --disabled-fill-color: #666;\n",
              "  }\n",
              "\n",
              "  .colab-df-quickchart {\n",
              "    background-color: var(--bg-color);\n",
              "    border: none;\n",
              "    border-radius: 50%;\n",
              "    cursor: pointer;\n",
              "    display: none;\n",
              "    fill: var(--fill-color);\n",
              "    height: 32px;\n",
              "    padding: 0;\n",
              "    width: 32px;\n",
              "  }\n",
              "\n",
              "  .colab-df-quickchart:hover {\n",
              "    background-color: var(--hover-bg-color);\n",
              "    box-shadow: 0 1px 2px rgba(60, 64, 67, 0.3), 0 1px 3px 1px rgba(60, 64, 67, 0.15);\n",
              "    fill: var(--button-hover-fill-color);\n",
              "  }\n",
              "\n",
              "  .colab-df-quickchart-complete:disabled,\n",
              "  .colab-df-quickchart-complete:disabled:hover {\n",
              "    background-color: var(--disabled-bg-color);\n",
              "    fill: var(--disabled-fill-color);\n",
              "    box-shadow: none;\n",
              "  }\n",
              "\n",
              "  .colab-df-spinner {\n",
              "    border: 2px solid var(--fill-color);\n",
              "    border-color: transparent;\n",
              "    border-bottom-color: var(--fill-color);\n",
              "    animation:\n",
              "      spin 1s steps(1) infinite;\n",
              "  }\n",
              "\n",
              "  @keyframes spin {\n",
              "    0% {\n",
              "      border-color: transparent;\n",
              "      border-bottom-color: var(--fill-color);\n",
              "      border-left-color: var(--fill-color);\n",
              "    }\n",
              "    20% {\n",
              "      border-color: transparent;\n",
              "      border-left-color: var(--fill-color);\n",
              "      border-top-color: var(--fill-color);\n",
              "    }\n",
              "    30% {\n",
              "      border-color: transparent;\n",
              "      border-left-color: var(--fill-color);\n",
              "      border-top-color: var(--fill-color);\n",
              "      border-right-color: var(--fill-color);\n",
              "    }\n",
              "    40% {\n",
              "      border-color: transparent;\n",
              "      border-right-color: var(--fill-color);\n",
              "      border-top-color: var(--fill-color);\n",
              "    }\n",
              "    60% {\n",
              "      border-color: transparent;\n",
              "      border-right-color: var(--fill-color);\n",
              "    }\n",
              "    80% {\n",
              "      border-color: transparent;\n",
              "      border-right-color: var(--fill-color);\n",
              "      border-bottom-color: var(--fill-color);\n",
              "    }\n",
              "    90% {\n",
              "      border-color: transparent;\n",
              "      border-bottom-color: var(--fill-color);\n",
              "    }\n",
              "  }\n",
              "</style>\n",
              "\n",
              "  <script>\n",
              "    async function quickchart(key) {\n",
              "      const quickchartButtonEl =\n",
              "        document.querySelector('#' + key + ' button');\n",
              "      quickchartButtonEl.disabled = true;  // To prevent multiple clicks.\n",
              "      quickchartButtonEl.classList.add('colab-df-spinner');\n",
              "      try {\n",
              "        const charts = await google.colab.kernel.invokeFunction(\n",
              "            'suggestCharts', [key], {});\n",
              "      } catch (error) {\n",
              "        console.error('Error during call to suggestCharts:', error);\n",
              "      }\n",
              "      quickchartButtonEl.classList.remove('colab-df-spinner');\n",
              "      quickchartButtonEl.classList.add('colab-df-quickchart-complete');\n",
              "    }\n",
              "    (() => {\n",
              "      let quickchartButtonEl =\n",
              "        document.querySelector('#df-178035d5-be0a-483b-bd19-8741c41c0e77 button');\n",
              "      quickchartButtonEl.style.display =\n",
              "        google.colab.kernel.accessAllowed ? 'block' : 'none';\n",
              "    })();\n",
              "  </script>\n",
              "</div>\n",
              "    </div>\n",
              "  </div>\n"
            ],
            "text/plain": [
              "   Id  MSSubClass MSZoning  LotFrontage  LotArea Street Alley LotShape  \\\n",
              "0   2          20       RL         80.0     9600   Pave   NaN      Reg   \n",
              "1   9          50       RM         51.0     6120   Pave   NaN      Reg   \n",
              "2  18          90       RL         72.0    10791   Pave   NaN      Reg   \n",
              "3  19          20       RL         66.0    13695   Pave   NaN      Reg   \n",
              "4  20          20       RL         70.0     7560   Pave   NaN      Reg   \n",
              "\n",
              "  LandContour Utilities  ... ScreenPorch PoolArea PoolQC  Fence MiscFeature  \\\n",
              "0         Lvl    AllPub  ...           0        0    NaN    NaN         NaN   \n",
              "1         Lvl    AllPub  ...           0        0    NaN    NaN         NaN   \n",
              "2         Lvl    AllPub  ...           0        0    NaN    NaN        Shed   \n",
              "3         Lvl    AllPub  ...           0        0    NaN    NaN         NaN   \n",
              "4         Lvl    AllPub  ...           0        0    NaN  MnPrv         NaN   \n",
              "\n",
              "  MiscVal MoSold  YrSold  SaleType  SaleCondition  \n",
              "0       0      5    2007        WD         Normal  \n",
              "1       0      4    2008        WD        Abnorml  \n",
              "2     500     10    2006        WD         Normal  \n",
              "3       0      6    2008        WD         Normal  \n",
              "4       0      5    2009       COD        Abnorml  \n",
              "\n",
              "[5 rows x 80 columns]"
            ]
          },
          "execution_count": 42,
          "metadata": {},
          "output_type": "execute_result"
        }
      ],
      "source": [
        "#load test_data\n",
        "test_df = pd.read_csv('/content/drive/MyDrive/Housing_Data_Test.csv', index_col = 0)\n",
        "test_df.head()"
      ]
    },
    {
      "cell_type": "markdown",
      "metadata": {
        "id": "0AVGngBXexpc"
      },
      "source": [
        "Processing Test Dataset"
      ]
    },
    {
      "cell_type": "code",
      "execution_count": null,
      "metadata": {
        "id": "zImAwGPCIMqq"
      },
      "outputs": [],
      "source": [
        "# list of categorical columns with missing values\n",
        "categorical_columns_with_nan = ['Electrical','GarageType','GarageFinish','GarageCond','GarageQual',\n",
        "                                'Fence','FireplaceQu','BsmtExposure','BsmtCond','BsmtQual',\n",
        "                                'BsmtFinType1','BsmtFinType2','MasVnrType']\n",
        "#Replace NaN value with string 'NaN'\n",
        "test_df[categorical_columns_with_nan] = test_df[categorical_columns_with_nan].fillna('NaN')\n",
        "\n",
        "# define ordinal mapping for quality\n",
        "quality_map = {'Ex': 5 ,'Gd':4, 'TA':3, 'Fa':2, 'Po': 1, 'NaN':0}\n",
        "columns_to_map_quality = ['ExterQual','ExterCond','BsmtQual','BsmtCond','HeatingQC',\n",
        "                          'FireplaceQu','GarageQual','GarageCond','KitchenQual']\n",
        "for col in columns_to_map_quality:\n",
        "  test_df[col] = test_df[col].map(quality_map)\n",
        "\n",
        "# define ordinal mapping for fin type\n",
        "fin_type_map = {'GLQ' : 6, 'ALQ' : 5 , 'BLQ': 4, 'Rec': 3,\n",
        "                'LwQ': 2, 'Unf': 1, 'NaN': 0}\n",
        "BsmtFinType = ['BsmtFinType1','BsmtFinType2']\n",
        "for col in BsmtFinType:\n",
        "  test_df[col] = test_df[col].map(fin_type_map)\n",
        "\n",
        "# define ordinal mapping for basement exposure quality\n",
        "bsmt_exposure_quality = {'Gd': 4,'Av': 3, 'Mn': 2 , 'No': 1,'NaN':0}\n",
        "test_df['BsmtExposure'] = test_df['BsmtExposure'].map(bsmt_exposure_quality)\n",
        "\n",
        "#get the categorical columne\n",
        "categorical_data = test_df.select_dtypes(include = 'object')\n",
        "#get the numerical columns\n",
        "numerical_data = test_df.select_dtypes(exclude = 'object')\n",
        "#ONE HOT ENCODING  FOR CATEGORICAL DATA\n",
        "categorical_data  = pd.get_dummies(categorical_data)\n",
        "#concatenating categorical and numeric columns\n",
        "test_df = pd.concat([numerical_data, categorical_data], axis =1)\n",
        "\n",
        "##Adding new columns to test dataframe to match the column names of the training dataFrame\n",
        "##And set zero values for the new added columns\n",
        "new_columns =['Foundation_Wood','SaleType_Con','LotConfig_FR3']\n",
        "for col in new_columns:\n",
        "  test_df[col] = 0\n",
        "\n",
        "#Replace all NaN values in the test dataFrame by 0\n",
        "test_df = test_df.fillna(0)"
      ]
    },
    {
      "cell_type": "code",
      "execution_count": null,
      "metadata": {
        "colab": {
          "base_uri": "https://localhost:8080/",
          "height": 256
        },
        "id": "v4xIQbKELm0y",
        "outputId": "c4a520e0-e773-4bec-a34b-d94846508ee9"
      },
      "outputs": [
        {
          "data": {
            "text/html": [
              "\n",
              "  <div id=\"df-f53043ee-46cb-4fdf-9fbc-431e45a5e2de\" class=\"colab-df-container\">\n",
              "    <div>\n",
              "<style scoped>\n",
              "    .dataframe tbody tr th:only-of-type {\n",
              "        vertical-align: middle;\n",
              "    }\n",
              "\n",
              "    .dataframe tbody tr th {\n",
              "        vertical-align: top;\n",
              "    }\n",
              "\n",
              "    .dataframe thead th {\n",
              "        text-align: right;\n",
              "    }\n",
              "</style>\n",
              "<table border=\"1\" class=\"dataframe\">\n",
              "  <thead>\n",
              "    <tr style=\"text-align: right;\">\n",
              "      <th></th>\n",
              "      <th>Id</th>\n",
              "      <th>MSSubClass</th>\n",
              "      <th>LotFrontage</th>\n",
              "      <th>LotArea</th>\n",
              "      <th>OverallQual</th>\n",
              "      <th>OverallCond</th>\n",
              "      <th>YearBuilt</th>\n",
              "      <th>YearRemodAdd</th>\n",
              "      <th>MasVnrArea</th>\n",
              "      <th>ExterQual</th>\n",
              "      <th>...</th>\n",
              "      <th>SaleType_WD</th>\n",
              "      <th>SaleCondition_Abnorml</th>\n",
              "      <th>SaleCondition_AdjLand</th>\n",
              "      <th>SaleCondition_Alloca</th>\n",
              "      <th>SaleCondition_Family</th>\n",
              "      <th>SaleCondition_Normal</th>\n",
              "      <th>SaleCondition_Partial</th>\n",
              "      <th>Foundation_Wood</th>\n",
              "      <th>SaleType_Con</th>\n",
              "      <th>LotConfig_FR3</th>\n",
              "    </tr>\n",
              "  </thead>\n",
              "  <tbody>\n",
              "    <tr>\n",
              "      <th>0</th>\n",
              "      <td>2</td>\n",
              "      <td>20</td>\n",
              "      <td>80.0</td>\n",
              "      <td>9600</td>\n",
              "      <td>6</td>\n",
              "      <td>8</td>\n",
              "      <td>1976</td>\n",
              "      <td>1976</td>\n",
              "      <td>0.0</td>\n",
              "      <td>3</td>\n",
              "      <td>...</td>\n",
              "      <td>1</td>\n",
              "      <td>0</td>\n",
              "      <td>0</td>\n",
              "      <td>0</td>\n",
              "      <td>0</td>\n",
              "      <td>1</td>\n",
              "      <td>0</td>\n",
              "      <td>0</td>\n",
              "      <td>0</td>\n",
              "      <td>0</td>\n",
              "    </tr>\n",
              "    <tr>\n",
              "      <th>1</th>\n",
              "      <td>9</td>\n",
              "      <td>50</td>\n",
              "      <td>51.0</td>\n",
              "      <td>6120</td>\n",
              "      <td>7</td>\n",
              "      <td>5</td>\n",
              "      <td>1931</td>\n",
              "      <td>1950</td>\n",
              "      <td>0.0</td>\n",
              "      <td>3</td>\n",
              "      <td>...</td>\n",
              "      <td>1</td>\n",
              "      <td>1</td>\n",
              "      <td>0</td>\n",
              "      <td>0</td>\n",
              "      <td>0</td>\n",
              "      <td>0</td>\n",
              "      <td>0</td>\n",
              "      <td>0</td>\n",
              "      <td>0</td>\n",
              "      <td>0</td>\n",
              "    </tr>\n",
              "    <tr>\n",
              "      <th>2</th>\n",
              "      <td>18</td>\n",
              "      <td>90</td>\n",
              "      <td>72.0</td>\n",
              "      <td>10791</td>\n",
              "      <td>4</td>\n",
              "      <td>5</td>\n",
              "      <td>1967</td>\n",
              "      <td>1967</td>\n",
              "      <td>0.0</td>\n",
              "      <td>3</td>\n",
              "      <td>...</td>\n",
              "      <td>1</td>\n",
              "      <td>0</td>\n",
              "      <td>0</td>\n",
              "      <td>0</td>\n",
              "      <td>0</td>\n",
              "      <td>1</td>\n",
              "      <td>0</td>\n",
              "      <td>0</td>\n",
              "      <td>0</td>\n",
              "      <td>0</td>\n",
              "    </tr>\n",
              "    <tr>\n",
              "      <th>3</th>\n",
              "      <td>19</td>\n",
              "      <td>20</td>\n",
              "      <td>66.0</td>\n",
              "      <td>13695</td>\n",
              "      <td>5</td>\n",
              "      <td>5</td>\n",
              "      <td>2004</td>\n",
              "      <td>2004</td>\n",
              "      <td>0.0</td>\n",
              "      <td>3</td>\n",
              "      <td>...</td>\n",
              "      <td>1</td>\n",
              "      <td>0</td>\n",
              "      <td>0</td>\n",
              "      <td>0</td>\n",
              "      <td>0</td>\n",
              "      <td>1</td>\n",
              "      <td>0</td>\n",
              "      <td>0</td>\n",
              "      <td>0</td>\n",
              "      <td>0</td>\n",
              "    </tr>\n",
              "    <tr>\n",
              "      <th>4</th>\n",
              "      <td>20</td>\n",
              "      <td>20</td>\n",
              "      <td>70.0</td>\n",
              "      <td>7560</td>\n",
              "      <td>5</td>\n",
              "      <td>6</td>\n",
              "      <td>1958</td>\n",
              "      <td>1965</td>\n",
              "      <td>0.0</td>\n",
              "      <td>3</td>\n",
              "      <td>...</td>\n",
              "      <td>0</td>\n",
              "      <td>1</td>\n",
              "      <td>0</td>\n",
              "      <td>0</td>\n",
              "      <td>0</td>\n",
              "      <td>0</td>\n",
              "      <td>0</td>\n",
              "      <td>0</td>\n",
              "      <td>0</td>\n",
              "      <td>0</td>\n",
              "    </tr>\n",
              "  </tbody>\n",
              "</table>\n",
              "<p>5 rows × 228 columns</p>\n",
              "</div>\n",
              "    <div class=\"colab-df-buttons\">\n",
              "\n",
              "  <div class=\"colab-df-container\">\n",
              "    <button class=\"colab-df-convert\" onclick=\"convertToInteractive('df-f53043ee-46cb-4fdf-9fbc-431e45a5e2de')\"\n",
              "            title=\"Convert this dataframe to an interactive table.\"\n",
              "            style=\"display:none;\">\n",
              "\n",
              "  <svg xmlns=\"http://www.w3.org/2000/svg\" height=\"24px\" viewBox=\"0 -960 960 960\">\n",
              "    <path d=\"M120-120v-720h720v720H120Zm60-500h600v-160H180v160Zm220 220h160v-160H400v160Zm0 220h160v-160H400v160ZM180-400h160v-160H180v160Zm440 0h160v-160H620v160ZM180-180h160v-160H180v160Zm440 0h160v-160H620v160Z\"/>\n",
              "  </svg>\n",
              "    </button>\n",
              "\n",
              "  <style>\n",
              "    .colab-df-container {\n",
              "      display:flex;\n",
              "      gap: 12px;\n",
              "    }\n",
              "\n",
              "    .colab-df-convert {\n",
              "      background-color: #E8F0FE;\n",
              "      border: none;\n",
              "      border-radius: 50%;\n",
              "      cursor: pointer;\n",
              "      display: none;\n",
              "      fill: #1967D2;\n",
              "      height: 32px;\n",
              "      padding: 0 0 0 0;\n",
              "      width: 32px;\n",
              "    }\n",
              "\n",
              "    .colab-df-convert:hover {\n",
              "      background-color: #E2EBFA;\n",
              "      box-shadow: 0px 1px 2px rgba(60, 64, 67, 0.3), 0px 1px 3px 1px rgba(60, 64, 67, 0.15);\n",
              "      fill: #174EA6;\n",
              "    }\n",
              "\n",
              "    .colab-df-buttons div {\n",
              "      margin-bottom: 4px;\n",
              "    }\n",
              "\n",
              "    [theme=dark] .colab-df-convert {\n",
              "      background-color: #3B4455;\n",
              "      fill: #D2E3FC;\n",
              "    }\n",
              "\n",
              "    [theme=dark] .colab-df-convert:hover {\n",
              "      background-color: #434B5C;\n",
              "      box-shadow: 0px 1px 3px 1px rgba(0, 0, 0, 0.15);\n",
              "      filter: drop-shadow(0px 1px 2px rgba(0, 0, 0, 0.3));\n",
              "      fill: #FFFFFF;\n",
              "    }\n",
              "  </style>\n",
              "\n",
              "    <script>\n",
              "      const buttonEl =\n",
              "        document.querySelector('#df-f53043ee-46cb-4fdf-9fbc-431e45a5e2de button.colab-df-convert');\n",
              "      buttonEl.style.display =\n",
              "        google.colab.kernel.accessAllowed ? 'block' : 'none';\n",
              "\n",
              "      async function convertToInteractive(key) {\n",
              "        const element = document.querySelector('#df-f53043ee-46cb-4fdf-9fbc-431e45a5e2de');\n",
              "        const dataTable =\n",
              "          await google.colab.kernel.invokeFunction('convertToInteractive',\n",
              "                                                    [key], {});\n",
              "        if (!dataTable) return;\n",
              "\n",
              "        const docLinkHtml = 'Like what you see? Visit the ' +\n",
              "          '<a target=\"_blank\" href=https://colab.research.google.com/notebooks/data_table.ipynb>data table notebook</a>'\n",
              "          + ' to learn more about interactive tables.';\n",
              "        element.innerHTML = '';\n",
              "        dataTable['output_type'] = 'display_data';\n",
              "        await google.colab.output.renderOutput(dataTable, element);\n",
              "        const docLink = document.createElement('div');\n",
              "        docLink.innerHTML = docLinkHtml;\n",
              "        element.appendChild(docLink);\n",
              "      }\n",
              "    </script>\n",
              "  </div>\n",
              "\n",
              "\n",
              "<div id=\"df-01fa5ff3-74f7-4d67-a153-8ab4255cadb7\">\n",
              "  <button class=\"colab-df-quickchart\" onclick=\"quickchart('df-01fa5ff3-74f7-4d67-a153-8ab4255cadb7')\"\n",
              "            title=\"Suggest charts.\"\n",
              "            style=\"display:none;\">\n",
              "\n",
              "<svg xmlns=\"http://www.w3.org/2000/svg\" height=\"24px\"viewBox=\"0 0 24 24\"\n",
              "     width=\"24px\">\n",
              "    <g>\n",
              "        <path d=\"M19 3H5c-1.1 0-2 .9-2 2v14c0 1.1.9 2 2 2h14c1.1 0 2-.9 2-2V5c0-1.1-.9-2-2-2zM9 17H7v-7h2v7zm4 0h-2V7h2v10zm4 0h-2v-4h2v4z\"/>\n",
              "    </g>\n",
              "</svg>\n",
              "  </button>\n",
              "\n",
              "<style>\n",
              "  .colab-df-quickchart {\n",
              "      --bg-color: #E8F0FE;\n",
              "      --fill-color: #1967D2;\n",
              "      --hover-bg-color: #E2EBFA;\n",
              "      --hover-fill-color: #174EA6;\n",
              "      --disabled-fill-color: #AAA;\n",
              "      --disabled-bg-color: #DDD;\n",
              "  }\n",
              "\n",
              "  [theme=dark] .colab-df-quickchart {\n",
              "      --bg-color: #3B4455;\n",
              "      --fill-color: #D2E3FC;\n",
              "      --hover-bg-color: #434B5C;\n",
              "      --hover-fill-color: #FFFFFF;\n",
              "      --disabled-bg-color: #3B4455;\n",
              "      --disabled-fill-color: #666;\n",
              "  }\n",
              "\n",
              "  .colab-df-quickchart {\n",
              "    background-color: var(--bg-color);\n",
              "    border: none;\n",
              "    border-radius: 50%;\n",
              "    cursor: pointer;\n",
              "    display: none;\n",
              "    fill: var(--fill-color);\n",
              "    height: 32px;\n",
              "    padding: 0;\n",
              "    width: 32px;\n",
              "  }\n",
              "\n",
              "  .colab-df-quickchart:hover {\n",
              "    background-color: var(--hover-bg-color);\n",
              "    box-shadow: 0 1px 2px rgba(60, 64, 67, 0.3), 0 1px 3px 1px rgba(60, 64, 67, 0.15);\n",
              "    fill: var(--button-hover-fill-color);\n",
              "  }\n",
              "\n",
              "  .colab-df-quickchart-complete:disabled,\n",
              "  .colab-df-quickchart-complete:disabled:hover {\n",
              "    background-color: var(--disabled-bg-color);\n",
              "    fill: var(--disabled-fill-color);\n",
              "    box-shadow: none;\n",
              "  }\n",
              "\n",
              "  .colab-df-spinner {\n",
              "    border: 2px solid var(--fill-color);\n",
              "    border-color: transparent;\n",
              "    border-bottom-color: var(--fill-color);\n",
              "    animation:\n",
              "      spin 1s steps(1) infinite;\n",
              "  }\n",
              "\n",
              "  @keyframes spin {\n",
              "    0% {\n",
              "      border-color: transparent;\n",
              "      border-bottom-color: var(--fill-color);\n",
              "      border-left-color: var(--fill-color);\n",
              "    }\n",
              "    20% {\n",
              "      border-color: transparent;\n",
              "      border-left-color: var(--fill-color);\n",
              "      border-top-color: var(--fill-color);\n",
              "    }\n",
              "    30% {\n",
              "      border-color: transparent;\n",
              "      border-left-color: var(--fill-color);\n",
              "      border-top-color: var(--fill-color);\n",
              "      border-right-color: var(--fill-color);\n",
              "    }\n",
              "    40% {\n",
              "      border-color: transparent;\n",
              "      border-right-color: var(--fill-color);\n",
              "      border-top-color: var(--fill-color);\n",
              "    }\n",
              "    60% {\n",
              "      border-color: transparent;\n",
              "      border-right-color: var(--fill-color);\n",
              "    }\n",
              "    80% {\n",
              "      border-color: transparent;\n",
              "      border-right-color: var(--fill-color);\n",
              "      border-bottom-color: var(--fill-color);\n",
              "    }\n",
              "    90% {\n",
              "      border-color: transparent;\n",
              "      border-bottom-color: var(--fill-color);\n",
              "    }\n",
              "  }\n",
              "</style>\n",
              "\n",
              "  <script>\n",
              "    async function quickchart(key) {\n",
              "      const quickchartButtonEl =\n",
              "        document.querySelector('#' + key + ' button');\n",
              "      quickchartButtonEl.disabled = true;  // To prevent multiple clicks.\n",
              "      quickchartButtonEl.classList.add('colab-df-spinner');\n",
              "      try {\n",
              "        const charts = await google.colab.kernel.invokeFunction(\n",
              "            'suggestCharts', [key], {});\n",
              "      } catch (error) {\n",
              "        console.error('Error during call to suggestCharts:', error);\n",
              "      }\n",
              "      quickchartButtonEl.classList.remove('colab-df-spinner');\n",
              "      quickchartButtonEl.classList.add('colab-df-quickchart-complete');\n",
              "    }\n",
              "    (() => {\n",
              "      let quickchartButtonEl =\n",
              "        document.querySelector('#df-01fa5ff3-74f7-4d67-a153-8ab4255cadb7 button');\n",
              "      quickchartButtonEl.style.display =\n",
              "        google.colab.kernel.accessAllowed ? 'block' : 'none';\n",
              "    })();\n",
              "  </script>\n",
              "</div>\n",
              "    </div>\n",
              "  </div>\n"
            ],
            "text/plain": [
              "   Id  MSSubClass  LotFrontage  LotArea  OverallQual  OverallCond  YearBuilt  \\\n",
              "0   2          20         80.0     9600            6            8       1976   \n",
              "1   9          50         51.0     6120            7            5       1931   \n",
              "2  18          90         72.0    10791            4            5       1967   \n",
              "3  19          20         66.0    13695            5            5       2004   \n",
              "4  20          20         70.0     7560            5            6       1958   \n",
              "\n",
              "   YearRemodAdd  MasVnrArea  ExterQual  ...  SaleType_WD  \\\n",
              "0          1976         0.0          3  ...            1   \n",
              "1          1950         0.0          3  ...            1   \n",
              "2          1967         0.0          3  ...            1   \n",
              "3          2004         0.0          3  ...            1   \n",
              "4          1965         0.0          3  ...            0   \n",
              "\n",
              "   SaleCondition_Abnorml  SaleCondition_AdjLand  SaleCondition_Alloca  \\\n",
              "0                      0                      0                     0   \n",
              "1                      1                      0                     0   \n",
              "2                      0                      0                     0   \n",
              "3                      0                      0                     0   \n",
              "4                      1                      0                     0   \n",
              "\n",
              "   SaleCondition_Family  SaleCondition_Normal  SaleCondition_Partial  \\\n",
              "0                     0                     1                      0   \n",
              "1                     0                     0                      0   \n",
              "2                     0                     1                      0   \n",
              "3                     0                     1                      0   \n",
              "4                     0                     0                      0   \n",
              "\n",
              "   Foundation_Wood  SaleType_Con  LotConfig_FR3  \n",
              "0                0             0              0  \n",
              "1                0             0              0  \n",
              "2                0             0              0  \n",
              "3                0             0              0  \n",
              "4                0             0              0  \n",
              "\n",
              "[5 rows x 228 columns]"
            ]
          },
          "execution_count": 44,
          "metadata": {},
          "output_type": "execute_result"
        }
      ],
      "source": [
        "test_df.head()"
      ]
    },
    {
      "cell_type": "markdown",
      "metadata": {
        "id": "Li3uE2byMIFN"
      },
      "source": [
        "#Predict sale price for housing test dataset"
      ]
    },
    {
      "cell_type": "code",
      "execution_count": null,
      "metadata": {
        "colab": {
          "base_uri": "https://localhost:8080/"
        },
        "id": "2SptSlPcCDVx",
        "outputId": "293ccbd4-0d36-4590-8627-1ecd44a647b5"
      },
      "outputs": [
        {
          "name": "stdout",
          "output_type": "stream",
          "text": [
            "[206264, 155433, 118202, 136379, 132556, 266018, 64797, 186205, 146102, 151455, 141440, 275854, 269359, 182244, 154314, 418421, 121503, 167430, 221399, 61710, 121615, 188418, 154875, 191788, 130037, 124436, 185195, 186366, 177385, 122202, 119792, 153880, 317578, 241278, 173325, 181032, 116559, 141576, 221627, 217640, 157476, 156051, 204260, 107736, 133480, 111334, 125804, 232900, 292526, 184327, 275256, 162030, 141638, 207669, 166298, 179819, 112457, 186835, 142219, 120428, 99281, 91580, 151049, 123611, 215743, 239686, 189802, 218685, 269753, 95358, 207792, 254444, 82595, 229886, 184824, 209965, 122610, 194916, 107549, 161380, 137779, 166124, 242659, 253185, 121208, 251155, 262854, 139902, 282134, 165056, 165492, 185050, 330032, 152523, 142751, 92062, 119907, 213849, 159472, 71541, 206930, 118292, 287698, 155844, 118516, 105646, 204764, 146795, 274723, 344557, 216157, 208161, 69479, 155864, 107695, 139567, 143655, 229766, 262898, 291030, 250544, 230225, 307273, 145969, 105982, 204678, 187224, 122437, 214949, 131801, 210225, 177347, 248514, 159507, 119724, 187814, 192052, 139235, 365328, 123662, 81372, 185636, 158597, 373605, 163970, 119619, 218499, 161620, 285713, 147690, 221615, 166118, 138768, 174966, 148231, 367600, 243321, 148269, 395112, 124282, 252264, 213093, 137881, 183104, 131116, 141917, 275158, 96997, 112553, 215267, 125931, 285151, 136174, 133235, 141658, 136553, 239966, 129214, 173393, 100955, 376505, 142545, 146499, 101310, 210003, 135580, 121017, 154864, 114792, 130959, 160270, 322269, 143123, 143325, 160101, 79221, 202971, 337116, 197760, 193587, 181438, 122691, 150304, 322847, 107154, 230269, 154482, 151542, 317531, 26104, 140154, 129536, 112542, 299259, 146879, 211954, 237500, 100538, 45340, 114799, 146459, 193968, 281929, 142793, 292430, 202611, 147282, 141762, 226841, 160159, 113311, 261959, 223539, 132069, 138414, 137759, 174627, 172067, 221015, 159949, 268313, 204995, 158944, 136501, 90578, 198124, 219675, 158334, 110021, 202727, 147979, 184620, 167110, 143203, 136199, 159915, 189647, 149495, 143162, 146965, 103174, 178072, 136125, 312815, 211830, 125180, 155291, 146304, 147115, 161414, 162898, 90164, 146929, 126076, 246244, 142582, 101874, 173224, 197299, 150998, 171209, 215436, 231890, 271778, 96307, 184132, 275419, 139236, 118923, 193844, 118537, 142251, 172242, 80415, 93835, 200624, 253443, 221152, 178546, 168711, 142188, 236642, 113191, 175696, 159108, 161924, 305223, 115809, 297586, 231951, 81380, 253249, 305613, 147445, 162905, 201342, 165312, 255970, 168260, 229195, 99798, 187939, 104567, 136141, 110993, 176593, 169041, 204840, 161494, 164971, 169630, 133250, 120810, 43894, 111064, 310408, 136387, 193785, 124589, 232323, 61000, 159538, 218961, 135394, 136239, 223169, 339178, 158904, 149531, 221217, 170285, 252027, 124734, 121875, 156308, 191150, 226860, 178369, 159478, 241075, 129730, 91739, 204235, 276925, 216357, 282456, 177367, 210200, 153398, 138538, 204182, 129705, 164012, 181696, 128865, 206528, 262201, 211954, 138414, 123080, 265555, 171012, 200859, 179553, 163614, 74295, 157949, 117503, 119160, 153680, 301821, 317870, 213191, 158483, 171530, 213700, 109791, 183697, 262598, 102215, 59555, 249561, 117358, 127953, 116800, 236542, 197171, 260663, 255537, 200182, 370311, 180898, 156327, 161608, 191093, 129095, 244687, 180065, 250799, 97364, 77634, 111161, 313241, 116777, 147150, 139680, 182055, 204928, 280058, 127172, 110264, 315328, 220153, 138422, 199624, 185724, 347046, 309372, 100197, 88603, 262190, 166622, 217658, 243689, 149616, 157152]\n"
          ]
        }
      ],
      "source": [
        "#finding the features of the best model\n",
        "features = models_with_noTestSet.loc[75,'model'].model.exog_names\n",
        "# a dataframe with the selected features from test_df\n",
        "X = test_df[features]\n",
        "#the best model that i get\n",
        "model = models_with_noTestSet.loc[75,'model']\n",
        "#get predicted values for the selected model\n",
        "predictions = model.predict(X)\n",
        "\n",
        "\n",
        "# convert the predictions to a list\n",
        "list_predictions = predictions.tolist()\n",
        "# convert the predicted values to integer\n",
        "rounded_list_predictions = [ int(x) for x in list_predictions]\n",
        "\n",
        "#Printing the list of integer predicted values\n",
        "print(rounded_list_predictions)\n"
      ]
    },
    {
      "cell_type": "markdown",
      "metadata": {
        "id": "b-8wpoSYk0sX"
      },
      "source": [
        "#**FINAL MODEL**\n",
        "\n",
        "So, the final model contains 75 predictor variable features results in minimum error in test dataset.\n",
        "\n",
        "The test MSE that was submitted to the leaderboard is 21508 ."
      ]
    },
    {
      "cell_type": "code",
      "execution_count": null,
      "metadata": {
        "colab": {
          "base_uri": "https://localhost:8080/"
        },
        "id": "RJXmcbr8aYju",
        "outputId": "283e05e6-ed11-4efb-f753-a8bcabf72762"
      },
      "outputs": [
        {
          "data": {
            "text/plain": [
              "['OverallQual',\n",
              " 'GarageArea',\n",
              " 'GarageType_Detchd',\n",
              " 'GrLivArea',\n",
              " 'YrSold',\n",
              " 'TotalBsmtSF',\n",
              " 'KitchenQual',\n",
              " 'BsmtFinSF1',\n",
              " 'SaleType_New',\n",
              " 'LotArea',\n",
              " 'ExterQual',\n",
              " 'Neighborhood_Crawfor',\n",
              " 'YearBuilt',\n",
              " 'OverallCond',\n",
              " 'Neighborhood_NridgHt',\n",
              " 'BldgType_1Fam',\n",
              " 'BsmtExposure',\n",
              " 'Neighborhood_StoneBr',\n",
              " 'Exterior1st_BrkFace',\n",
              " 'BedroomAbvGr',\n",
              " 'Neighborhood_NoRidge',\n",
              " 'GarageFinish_RFn',\n",
              " 'Neighborhood_Somerst',\n",
              " 'BsmtCond',\n",
              " 'Functional_Typ',\n",
              " 'Condition1_Norm',\n",
              " 'Neighborhood_BrkSide',\n",
              " 'Exterior1st_Stucco',\n",
              " 'WoodDeckSF',\n",
              " 'LandSlope_Sev',\n",
              " 'LandContour_HLS',\n",
              " 'Fireplaces',\n",
              " 'Foundation_PConc',\n",
              " 'RoofStyle_Gable',\n",
              " 'Neighborhood_Veenker',\n",
              " 'Neighborhood_NPkVill',\n",
              " 'GarageYrBlt',\n",
              " 'SaleCondition_Abnorml',\n",
              " 'Exterior1st_MetalSd',\n",
              " 'GarageCars',\n",
              " 'Condition1_RRAe',\n",
              " 'HouseStyle_2.5Unf',\n",
              " 'ScreenPorch',\n",
              " 'BsmtFinType2',\n",
              " 'Foundation_Wood',\n",
              " 'HouseStyle_1Story',\n",
              " 'Exterior1st_CemntBd',\n",
              " 'BldgType_2fmCon',\n",
              " 'MasVnrArea',\n",
              " 'Exterior1st_VinylSd',\n",
              " 'Neighborhood_BrDale',\n",
              " 'BldgType_Twnhs',\n",
              " 'Foundation_Slab',\n",
              " 'SaleType_Con',\n",
              " 'SaleType_CWD',\n",
              " 'ExterCond',\n",
              " 'HouseStyle_2.5Fin',\n",
              " 'Heating_GasW',\n",
              " 'Neighborhood_Blmngtn',\n",
              " 'YearRemodAdd',\n",
              " 'BsmtFullBath',\n",
              " 'Exterior2nd_Wd Sdng',\n",
              " 'LotConfig_FR3',\n",
              " 'MasVnrType_NaN',\n",
              " 'Condition1_Artery',\n",
              " 'Functional_Maj2',\n",
              " 'Neighborhood_Edwards',\n",
              " 'LotShape_IR1',\n",
              " 'Neighborhood_CollgCr',\n",
              " 'Neighborhood_Gilbert',\n",
              " 'LotConfig_CulDSac',\n",
              " 'Electrical_FuseF',\n",
              " 'Fence_GdPrv',\n",
              " 'LotConfig_FR2',\n",
              " '1stFlrSF']"
            ]
          },
          "execution_count": 46,
          "metadata": {},
          "output_type": "execute_result"
        }
      ],
      "source": [
        "#print the features of the best model\n",
        "features = models_with_noTestSet.loc[75,'model'].model.exog_names\n",
        "features"
      ]
    }
  ],
  "metadata": {
    "colab": {
      "provenance": [],
      "include_colab_link": true
    },
    "kernelspec": {
      "display_name": "Python 3",
      "name": "python3"
    },
    "language_info": {
      "name": "python"
    }
  },
  "nbformat": 4,
  "nbformat_minor": 0
}